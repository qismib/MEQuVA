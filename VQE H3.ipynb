{
 "cells": [
  {
   "cell_type": "markdown",
   "id": "naughty-corps",
   "metadata": {},
   "source": [
    "# VQE H3 e H3+\n"
   ]
  },
  {
   "cell_type": "markdown",
   "id": "dynamic-fence",
   "metadata": {},
   "source": [
    "### Note:\n",
    "* Non imposto esplicitamente lo spin... cosa ne fa?\n",
    "* Uso la base sto3g, ma potrei anche cambiarla magari\n",
    "* Uso un operatore fermionico, ma non so bene cosa sia (così come anzhe le Z2Summetries)\n",
    "* Su wikipedia vedo una distanza di 0.9 A, io ne calcolo una minima di 1\n",
    "* Qubit mapping:\n",
    "    * Parity\n",
    "    * Jordan Wigner\n",
    "    * Altro"
   ]
  },
  {
   "cell_type": "code",
   "execution_count": 283,
   "id": "square-chicago",
   "metadata": {},
   "outputs": [],
   "source": [
    "from qiskit import Aer\n",
    "from qiskit.aqua import QuantumInstance\n",
    "from qiskit.aqua.algorithms import NumPyMinimumEigensolver, VQE\n",
    "from qiskit.aqua.components.optimizers import SLSQP\n",
    "from qiskit.chemistry import QiskitChemistryError\n",
    "from qiskit.chemistry.applications import MolecularGroundStateEnergy\n",
    "from qiskit.chemistry.algorithms import ground_state_solvers\n",
    "from qiskit.chemistry.components.initial_states import HartreeFock\n",
    "from qiskit.chemistry.components.variational_forms import UCCSD\n",
    "from qiskit.chemistry.core import QubitMappingType\n",
    "from qiskit.chemistry.drivers import PySCFDriver, UnitsType"
   ]
  },
  {
   "cell_type": "code",
   "execution_count": 284,
   "id": "raising-contrast",
   "metadata": {},
   "outputs": [],
   "source": [
    "# Ottengo dei warnings perchè uso deprecated functions, così li evito un po' bruscamente\n",
    "import warnings\n",
    "warnings.filterwarnings(\"ignore\")"
   ]
  },
  {
   "cell_type": "code",
   "execution_count": 285,
   "id": "imposed-lindsay",
   "metadata": {},
   "outputs": [],
   "source": [
    "#charge 0 e spin 1 -> H3\n",
    "#charge 1 e spin 0 -> H3+\n",
    "\n",
    "def get_driver(dist):\n",
    "    charge = 1\n",
    "    spin = 0\n",
    "    alt=np.sqrt(dist**2 - (dist/2)**2)\n",
    "    driver = PySCFDriver(atom=\"H .0 .0 .0; H .0 .0 \" + str(dist) + \"; H .0 \" + str(alt) + \" \" + str(dist/2),\n",
    "                         unit=UnitsType.ANGSTROM, spin = spin,\n",
    "                         charge=charge, basis='sto3g')\n",
    "    return driver"
   ]
  },
  {
   "cell_type": "markdown",
   "id": "female-colors",
   "metadata": {},
   "source": [
    "Restituisce vqe, ovvero? Da analizzare per bene"
   ]
  },
  {
   "cell_type": "code",
   "execution_count": 288,
   "id": "cosmetic-inspection",
   "metadata": {},
   "outputs": [],
   "source": [
    "def get_qubit_op(dist):\n",
    "    driver = get_driver(dist)\n",
    "    molecule = driver.run()\n",
    "    \n",
    "    repulsion_energy = molecule.nuclear_repulsion_energy\n",
    "    num_particles = molecule.num_alpha + molecule.num_beta\n",
    "    num_spin_orbitals = molecule.num_orbitals * 2\n",
    "    ferOp = FermionicOperator(h1=molecule.one_body_integrals, h2=molecule.two_body_integrals)\n",
    "    qubitOp = ferOp.mapping(map_type='jordan_wigner')\n",
    "    shift =  repulsion_energy\n",
    "    return qubitOp\n",
    "    #return qubitOp, num_particles, num_spin_orbitals, shift"
   ]
  },
  {
   "cell_type": "code",
   "execution_count": 289,
   "id": "renewable-fancy",
   "metadata": {},
   "outputs": [],
   "source": [
    "def cb_create_solver(num_particles, num_orbitals,\n",
    "                        qubit_mapping, two_qubit_reduction, z2_symmetries):\n",
    "    initial_state = HartreeFock(num_orbitals, num_particles, qubit_mapping,\n",
    "                                two_qubit_reduction, z2_symmetries.sq_list)\n",
    "    var_form = UCCSD(num_orbitals=num_orbitals,\n",
    "                        num_particles=num_particles,\n",
    "                        initial_state=initial_state,\n",
    "                        qubit_mapping=qubit_mapping,\n",
    "                        two_qubit_reduction=two_qubit_reduction,\n",
    "                        z2_symmetries=z2_symmetries)\n",
    "    #print(var_form.num_qubits) # in questo momento la varform usa 6 qubits\n",
    "    vqe = VQE(operator = get_qubit_op(dist), \n",
    "              var_form=var_form, optimizer=SLSQP(maxiter=500), include_custom=True)\n",
    "    #vqe = VQE(var_form=var_form, optimizer=SLSQP(maxiter=500), include_custom=True)\n",
    "    vqe.quantum_instance = Aer.get_backend('qasm_simulator')\n",
    "    return vqe"
   ]
  },
  {
   "cell_type": "code",
   "execution_count": 292,
   "id": "indie-perry",
   "metadata": {},
   "outputs": [
    {
     "name": "stdout",
     "output_type": "stream",
     "text": [
      "Calcolo distanza: 1.29\n",
      "\tEnergia: -1.226313897579335\n",
      "Energia minima a 1.29 A: -1.226313897579335 eV\n"
     ]
    }
   ],
   "source": [
    "distances = np.arange(1.29, 1.3, 0.1)\n",
    "vqe_energies = []\n",
    "min = 0.0\n",
    "dismin = 0.0\n",
    "\n",
    "for dist in distances:\n",
    "    print(\"Calcolo distanza: \"+str(dist))\n",
    "    driver = get_driver(dist)\n",
    "    mgse = MolecularGroundStateEnergy(driver, \n",
    "                                  qubit_mapping=QubitMappingType.JORDAN_WIGNER,\n",
    "                                  two_qubit_reduction=False, freeze_core=False,\n",
    "                                  z2symmetry_reduction=None)\n",
    "    try:\n",
    "        result = mgse.compute_energy(cb_create_solver)\n",
    "        vqe_energies.append(result.energy)\n",
    "        if result.energy < min:\n",
    "            min = result.energy\n",
    "            dismin = dist\n",
    "            print(\"\\tEnergia: \" +str(min))\n",
    "    except:\n",
    "        print(\"errore\")\n",
    "        vqe_energies.append(min)\n",
    "\n",
    "print(\"Energia minima a \" + str(dismin) + \" A: \" + str(min) + \" eV\")"
   ]
  },
  {
   "cell_type": "markdown",
   "id": "indonesian-scientist",
   "metadata": {},
   "source": [
    "Inizialmente avevo anche una soluzione con il numpy eigensolver, ma non a bene\n",
    "https://github.com/Qiskit/qiskit-aqua/issues/1162\n",
    "Hi, when the 2nd quantized Hamiltonian is built out, since it has one and two- body creation and annihilation operators in its formation, we end up with states in the Hamiltonian for every possible particle configuration. The lowest eigenvalue in that Hamiltonian, ends up being the state with those atoms where the particle configuration (from none, to fully occupied) gives that lowest energy - this may NOT be the configuration you have entered. The NumPyEigensolver just gives the lowest energy period."
   ]
  },
  {
   "cell_type": "code",
   "execution_count": 287,
   "id": "under-extreme",
   "metadata": {},
   "outputs": [
    {
     "data": {
      "image/png": "[encoded data removed]",
      "text/plain": [
       "<Figure size 432x288 with 1 Axes>"
      ]
     },
     "metadata": {
      "needs_background": "light"
     },
     "output_type": "display_data"
    }
   ],
   "source": [
    "#plt.plot(distances, exact_energies, label=\"Numpy Energy\")\n",
    "plt.plot(distances, vqe_energies, label=\"VQE Energy\")\n",
    "plt.xlabel('Atomic distance (Angstrom)')\n",
    "plt.ylabel('Energy')\n",
    "plt.legend()\n",
    "plt.show()"
   ]
  },
  {
   "cell_type": "code",
   "execution_count": 291,
   "id": "statistical-majority",
   "metadata": {},
   "outputs": [
    {
     "data": {
      "image/png": "[encoded data removed]",
      "text/plain": [
       "<Figure size 432x288 with 1 Axes>"
      ]
     },
     "metadata": {
      "needs_background": "light"
     },
     "output_type": "display_data"
    }
   ],
   "source": [
    "plt.plot(distances, vqe_energies, label=\"VQE Energy\")\n",
    "plt.xlabel('Atomic distance (Angstrom)')\n",
    "plt.ylabel('Energy')\n",
    "plt.legend()\n",
    "plt.show()"
   ]
  },
  {
   "cell_type": "code",
   "execution_count": null,
   "id": "diverse-apparel",
   "metadata": {},
   "outputs": [],
   "source": []
  }
 ],
 "metadata": {
  "kernelspec": {
   "display_name": "Python 3",
   "language": "python",
   "name": "python3"
  },
  "language_info": {
   "codemirror_mode": {
    "name": "ipython",
    "version": 3
   },
   "file_extension": ".py",
   "mimetype": "text/x-python",
   "name": "python",
   "nbconvert_exporter": "python",
   "pygments_lexer": "ipython3",
   "version": "3.8.5"
  }
 },
 "nbformat": 4,
 "nbformat_minor": 5
}
