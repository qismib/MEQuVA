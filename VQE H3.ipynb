{
 "cells": [
  {
   "cell_type": "markdown",
   "id": "renewable-coverage",
   "metadata": {},
   "source": [
    "# VQE H3 e H3+\n"
   ]
  },
  {
   "cell_type": "markdown",
   "id": "finnish-rotation",
   "metadata": {},
   "source": [
    "### Note:\n",
    "* Uso un po' di roba deprecata\n",
    "* Uso la base sto3g, ma potrei anche cambiarla magari\n",
    "* Uso un operatore fermionico, ma non so bene cosa sia (così come anzhe le Z2Summetries)\n",
    "* Su wikipedia vedo una distanza di 0.9 A, io ne calcolo una minima di 1\n",
    "* Qubit mapping:\n",
    "    * Parity\n",
    "    * Jordan Wigner\n",
    "    * Altro"
   ]
  },
  {
   "cell_type": "markdown",
   "id": "funky-cylinder",
   "metadata": {},
   "source": [
    "Jordan Wigner\n",
    "\n",
    "    The Jordan-Wigner transformation, maps spin operators onto fermionic creation and annihilation operators. It was proposed by Ernst Pascual Jordan and Eugene Paul Wigner for one-dimensional lattice models, but now two-dimensional analogues of the transformation have also been created. The Jordan–Wigner transformation is often used to exactly solve 1D spin-chains by transforming the spin operators to fermionic operators and then diagonalizing in the fermionic basis.\n",
    "Parity\n",
    "\n",
    "    The parity-mapping transformation. optimizes encodings of fermionic many-body systems by qubits in the presence of symmetries. Such encodings eliminate redundant degrees of freedom in a way that preserves a simple structure of the system Hamiltonian enabling quantum simulations with fewer qubits.\n",
    "Bravyi-Kitaev\n",
    "\n",
    "    Also known as binary-tree-based qubit mapping, the Bravyi-Kitaev transformation is a method of mapping the occupation state of a fermionic system onto qubits. This transformation maps the Hamiltonian of n\n",
    "interacting fermions to an O(logn) local Hamiltonian of n qubits. This is an improvement in locality over the Jordan–Wigner transformation, which results in an O(n)\n",
    "\n",
    "    local qubit Hamiltonian. The Bravyi–Kitaev transformation was proposed by Sergey B. Bravyi and Alexei Yu. Kitaev.\n",
    "Bravyi-Kitaev Superfast\n",
    "\n",
    "    Bravyi-Kitaev Superfast (BKSF) algorithm is a mapping from fermionic operators to qubit operators. BKSF algorithm defines an abstract model where the fermionic modes are mapped to vertices of an interaction graph. The edges of the graph correspond to the interaction between the modes. The graph can be constructed from the Hamiltonian. The simulation is done by putting qubits on the edges of the graph. Each fermionic operator costs O(d)\n",
    "qubit operations, where d is the degree of the interaction graph. The BKSF was proposed by Kanav Setia and James D. Whitfield."
   ]
  },
  {
   "cell_type": "code",
   "execution_count": 1,
   "id": "formal-worthy",
   "metadata": {},
   "outputs": [
    {
     "name": "stderr",
     "output_type": "stream",
     "text": [
      "/home/rodolfo/venv/myqiskit/lib/python3.8/site-packages/pyscf/lib/misc.py:47: H5pyDeprecationWarning: Using default_file_mode other than 'r' is deprecated. Pass the mode to h5py.File() instead.\n",
      "  h5py.get_config().default_file_mode = 'a'\n"
     ]
    }
   ],
   "source": [
    "import matplotlib.pyplot as plt\n",
    "import numpy as np\n",
    "from qiskit import Aer\n",
    "from qiskit import QuantumCircuit\n",
    "from qiskit.aqua import QuantumInstance\n",
    "from qiskit.aqua.algorithms import NumPyMinimumEigensolver, VQE\n",
    "from qiskit.aqua.components.optimizers import SLSQP\n",
    "from qiskit.chemistry import QiskitChemistryError\n",
    "from qiskit.chemistry.applications import MolecularGroundStateEnergy\n",
    "from qiskit.chemistry.algorithms import ground_state_solvers\n",
    "from qiskit.chemistry.components.initial_states import HartreeFock\n",
    "from qiskit.chemistry.components.variational_forms import UCCSD\n",
    "from qiskit.chemistry.core import QubitMappingType\n",
    "from qiskit.chemistry import FermionicOperator\n",
    "from qiskit.chemistry.drivers import PySCFDriver, UnitsType"
   ]
  },
  {
   "cell_type": "code",
   "execution_count": 7,
   "id": "alpha-silicon",
   "metadata": {},
   "outputs": [],
   "source": [
    "# Ottengo dei warnings perchè uso deprecated functions, così li evito un po' bruscamente\n",
    "import warnings\n",
    "warnings.filterwarnings(\"ignore\")"
   ]
  },
  {
   "cell_type": "code",
   "execution_count": 37,
   "id": "homeless-casting",
   "metadata": {},
   "outputs": [],
   "source": [
    "#charge 0 e spin 1 -> H3 spin 3, prob\n",
    "#charge 1 e spin 0 -> H3+ spin 0? per la regola di hund si disporranno entrambi up -> 2*(1/2+1/2) = 2, invece sembra essere 0\n",
    "\n",
    "#lo spin è 2S per come viene definita la molecola (non 2S+1)\n",
    "\n",
    "def get_driver(dist):\n",
    "    charge = 1\n",
    "    spin = 0\n",
    "    alt=np.sqrt(dist**2 - (dist/2)**2)\n",
    "    mol = \"H .0 .0 .0; H .0 .0 \" + str(dist) + \"; H .0 \" + str(alt) + \" \" + str(dist/2)\n",
    "    driver = PySCFDriver(atom = mol,\n",
    "                         unit=UnitsType.ANGSTROM, spin = spin,\n",
    "                         charge=charge, basis='sto-6g')\n",
    "    #molecule = driver.run()\n",
    "    #repulsion_energy = molecule.nuclear_repulsion_energy\n",
    "    #print(\"REPULSIONE: \" + str(repulsion_energy))\n",
    "    return driver"
   ]
  },
  {
   "cell_type": "code",
   "execution_count": 22,
   "id": "boring-woman",
   "metadata": {},
   "outputs": [],
   "source": [
    "def get_qubit_op(dist):\n",
    "    driver = get_driver(dist)\n",
    "    molecule = driver.run()\n",
    "    \n",
    "    repulsion_energy = molecule.nuclear_repulsion_energy\n",
    "    num_particles = molecule.num_alpha + molecule.num_beta\n",
    "    num_spin_orbitals = molecule.num_orbitals * 2\n",
    "    ferOp = FermionicOperator(h1=molecule.one_body_integrals, h2=molecule.two_body_integrals)\n",
    "    qubitOp = ferOp.mapping(map_type='jordan_wigner')\n",
    "    return qubitOp\n",
    "    #return qubitOp, num_particles, num_spin_orbitals, shift"
   ]
  },
  {
   "cell_type": "markdown",
   "id": "diverse-artwork",
   "metadata": {},
   "source": [
    "Restituisce vqe, ovvero? Da analizzare per bene\n",
    "* Qubit Mapping type:\n",
    "    * JORDAN_WIGNER\n",
    "    * PARITY\n",
    "    * BRAVYI_KITAEV"
   ]
  },
  {
   "cell_type": "code",
   "execution_count": 31,
   "id": "unlike-level",
   "metadata": {},
   "outputs": [],
   "source": [
    "def cb_create_solver(num_particles, num_orbitals,\n",
    "                        qubit_mapping, two_qubit_reduction, z2_symmetries):\n",
    "    initial_state = HartreeFock(num_orbitals, num_particles, qubit_mapping,\n",
    "                                two_qubit_reduction, z2_symmetries.sq_list)\n",
    "    var_form = UCCSD(num_orbitals=num_orbitals,\n",
    "                        num_particles=num_particles,\n",
    "                        initial_state=initial_state,\n",
    "                        qubit_mapping=qubit_mapping,\n",
    "                        two_qubit_reduction=two_qubit_reduction,\n",
    "                        z2_symmetries=z2_symmetries)\n",
    "    #print(\"NUMERO PARAMETRI: \" + str(var_form.num_parameters)) 8\n",
    "    \n",
    "    #print(var_form.num_qubits) # in questo momento la varform usa 6 qubits\n",
    "    vqe = VQE(operator = get_qubit_op(dist), \n",
    "              var_form=var_form, optimizer=SLSQP(maxiter=500), include_custom=True)\n",
    "    #vqe = VQE(var_form=var_form, optimizer=SLSQP(maxiter=500), include_custom=True)\n",
    "    #vqe.compute_minimum_eigenvalue()\n",
    "    vqe.quantum_instance = Aer.get_backend('qasm_simulator')\n",
    "    #print(\"VQE ENERGY: \" + str(vqe.run(Aer.get_backend(\"statevector_simulator\"))['eigenvalue']))\n",
    "    #global result\n",
    "    #result = vqe.run()\n",
    "    #global circuit\n",
    "    #circuit = var_form.construct_circuit(vqe.optimal_params)\n",
    "    #circuit = vqe.get_optimal_circuit()\n",
    "    #circuit.draw(output='mpl', filename='my_circuit.png')\n",
    "    #print(vqe.optimal_params)\n",
    "    return vqe"
   ]
  },
  {
   "cell_type": "code",
   "execution_count": 38,
   "id": "loose-flight",
   "metadata": {},
   "outputs": [
    {
     "name": "stdout",
     "output_type": "stream",
     "text": [
      "Calcolo distanza: 0.7\n",
      "VQE ENERGY: (-3.4378452661721037+0j)\n",
      "VQE ENERGY: (-3.43784526618023+0j)\n",
      "\tEnergia: -1.1699429336625835\n",
      "Energia minima a 0.7 A: -1.1699429336625835 eV\n"
     ]
    }
   ],
   "source": [
    "distances = np.arange(0.7, 1.1, 1)\n",
    "vqe_energies = []\n",
    "min = 100.0\n",
    "dismin = 0.0\n",
    "\n",
    "for dist in distances:\n",
    "    print(\"Calcolo distanza: \"+str(dist))\n",
    "    driver = get_driver(dist)\n",
    "    mgse = MolecularGroundStateEnergy(driver, \n",
    "                                  qubit_mapping=QubitMappingType.JORDAN_WIGNER,\n",
    "                                  two_qubit_reduction=False, freeze_core=False,\n",
    "                                  z2symmetry_reduction=None)\n",
    "    result = mgse.compute_energy(cb_create_solver)\n",
    "    try:\n",
    "        result = mgse.compute_energy(cb_create_solver)\n",
    "        vqe_energies.append(result.energy)\n",
    "        print(\"\\tEnergia: \" +str(result.energy))\n",
    "        if result.energy < min:\n",
    "            min = result.energy\n",
    "            dismin = dist\n",
    "    except:\n",
    "        print(\"errore\")\n",
    "        vqe_energies.append(min)\n",
    "\n",
    "print(\"Energia minima a \" + str(dismin) + \" A: \" + str(min) + \" eV\") #piuttosto sicuro sia in hartree e non in ev"
   ]
  },
  {
   "cell_type": "markdown",
   "id": "short-respondent",
   "metadata": {},
   "source": [
    "Inizialmente avevo anche una soluzione con il numpy eigensolver, ma non va bene\n",
    "https://github.com/Qiskit/qiskit-aqua/issues/1162\n",
    "Hi, when the 2nd quantized Hamiltonian is built out, since it has one and two- body creation and annihilation operators in its formation, we end up with states in the Hamiltonian for every possible particle configuration. The lowest eigenvalue in that Hamiltonian, ends up being the state with those atoms where the particle configuration (from none, to fully occupied) gives that lowest energy - this may NOT be the configuration you have entered. The NumPyEigensolver just gives the lowest energy period."
   ]
  },
  {
   "cell_type": "code",
   "execution_count": 21,
   "id": "applicable-damage",
   "metadata": {},
   "outputs": [
    {
     "data": {
      "image/png": "[encoded data removed]",
      "text/plain": [
       "<Figure size 432x288 with 1 Axes>"
      ]
     },
     "metadata": {
      "needs_background": "light"
     },
     "output_type": "display_data"
    }
   ],
   "source": [
    "#plt.plot(distances, exact_energies, label=\"Numpy Energy\")\n",
    "plt.plot(distances, vqe_energies, label=\"VQE Energy\")\n",
    "plt.xlabel('Atomic distance (Angstrom)')\n",
    "plt.ylabel('Energy')\n",
    "plt.legend()\n",
    "#plt.ylim([-1.5, -1.3])\n",
    "plt.show()"
   ]
  },
  {
   "cell_type": "markdown",
   "id": "defined-classroom",
   "metadata": {},
   "source": [
    "Viene letto il file file.txt contenente energie e distanze già calcolate, se sonos tate analizzate nuove distanze le scrive in append alla fine."
   ]
  },
  {
   "cell_type": "code",
   "execution_count": 10,
   "id": "funny-trout",
   "metadata": {},
   "outputs": [],
   "source": [
    "with open('file.txt') as f:\n",
    "    #w, h = [int(x) for x in next(f).split()] # read first line\n",
    "    distanze_energie = []\n",
    "    for line in f: # read rest of lines\n",
    "        w,h=[float(x) for x in line.split()]\n",
    "        distanze_energie.append((w,h))\n",
    "f=open('file.txt', 'w+')\n",
    "i = -1\n",
    "for dist in distances:\n",
    "    i=i+1\n",
    "    if (dist,vqe_energies[i]) not in distanze_energie:\n",
    "        distanze_energie.append((dist, vqe_energies[i]))\n",
    "distanze_energie.sort(key=lambda pair: pair[0])\n",
    "for i in distanze_energie:\n",
    "    f.write(str(i[0]) + \" \" + str(i[1]) + \"\\n\")\n",
    "f.close()"
   ]
  },
  {
   "cell_type": "markdown",
   "id": "global-indian",
   "metadata": {},
   "source": [
    "Viene disegnato il grafico di quanto presente nel file file.txt"
   ]
  },
  {
   "cell_type": "code",
   "execution_count": 46,
   "id": "cultural-dallas",
   "metadata": {},
   "outputs": [
    {
     "data": {
      "image/png": "[encoded data removed]",
      "text/plain": [
       "<Figure size 432x288 with 1 Axes>"
      ]
     },
     "metadata": {
      "needs_background": "light"
     },
     "output_type": "display_data"
    },
    {
     "name": "stdout",
     "output_type": "stream",
     "text": [
      "Energia minima: -1.2744224915445381 a 0.9900000000000001 A\n"
     ]
    }
   ],
   "source": [
    "f=open('file.txt')\n",
    "    #w, h = [int(x) for x in next(f).split()] # read first line\n",
    "distanze = []\n",
    "energie = []\n",
    "min = 100\n",
    "mindist = 0\n",
    "for line in f: # read rest of lines\n",
    "    w,h=[float(x) for x in line.split()]\n",
    "    distanze.append(w)\n",
    "    energie.append(h) \n",
    "    if h < min:\n",
    "        min = h\n",
    "        mindist = w\n",
    "plt.plot(distanze, energie, label=\"VQE Energy\")\n",
    "plt.xlabel('Atomic distance (Angstrom)')\n",
    "plt.ylabel('Energy')\n",
    "plt.legend()\n",
    "plt.ylim([-1.5, -0.5])\n",
    "plt.show()\n",
    "print(\"Energia minima: \" + str(min) + \" a \" + str(mindist) + \" A\")"
   ]
  },
  {
   "cell_type": "code",
   "execution_count": 50,
   "id": "flying-mathematics",
   "metadata": {},
   "outputs": [
    {
     "data": {
      "text/plain": [
       "0.8744999999999999"
      ]
     },
     "execution_count": 50,
     "metadata": {},
     "output_type": "execute_result"
    }
   ],
   "source": [
    "#la distanza di legame dovrebbe essere 1.65 a0\n",
    "1.65*0.53 #in Angstrom sono circa 0.87"
   ]
  },
  {
   "cell_type": "code",
   "execution_count": 33,
   "id": "geological-agreement",
   "metadata": {},
   "outputs": [
    {
     "data": {
      "text/plain": [
       "-1.1699429336754021"
      ]
     },
     "execution_count": 33,
     "metadata": {},
     "output_type": "execute_result"
    }
   ],
   "source": [
    "-3.4378452661896883+2.267902332514286"
   ]
  },
  {
   "cell_type": "code",
   "execution_count": 36,
   "id": "operational-planet",
   "metadata": {},
   "outputs": [
    {
     "data": {
      "image/png": "[encoded data removed]",
      "text/plain": [
       "<Figure size 1591.6x385.28 with 1 Axes>"
      ]
     },
     "execution_count": 36,
     "metadata": {},
     "output_type": "execute_result"
    }
   ],
   "source": [
    "circuit.draw(output='mpl')"
   ]
  },
  {
   "cell_type": "code",
   "execution_count": 32,
   "id": "opponent-corporation",
   "metadata": {},
   "outputs": [
    {
     "name": "stdout",
     "output_type": "stream",
     "text": [
      "{   'algorithm_result': {   'aux_operator_eigenvalues': array([[1.9999999999999913],\n",
      "       [0.0],\n",
      "       [0.0],\n",
      "       [0.0],\n",
      "       [1.8540261267153375],\n",
      "       [3.2114279269101065]], dtype=object),\n",
      "                            'cost_function_evals': 50,\n",
      "                            'eigenstate': {   '001001': 939,\n",
      "                                              '010010': 42,\n",
      "                                              '100100': 43},\n",
      "                            'eigenvalue': (-2.0501409871938034+0j),\n",
      "                            'optimal_parameters': {   Parameter(θ[3]): 1.7980221026615364e-08,\n",
      "                                                      Parameter(θ[7]): -0.20850855513772254,\n",
      "                                                      Parameter(θ[2]): 0.0002522844019373723,\n",
      "                                                      Parameter(θ[1]): -1.0864500764499788e-07,\n",
      "                                                      Parameter(θ[4]): -0.20461191120144964,\n",
      "                                                      Parameter(θ[5]): 1.1235869550979794e-07,\n",
      "                                                      Parameter(θ[6]): -6.414988374306775e-08,\n",
      "                                                      Parameter(θ[0]): 0.0002522215949882223},\n",
      "                            'optimal_point': array([ 2.52221595e-04, -1.08645008e-07,  2.52284402e-04,  1.79802210e-08,\n",
      "       -2.04611911e-01,  1.12358696e-07, -6.41498837e-08, -2.08508555e-01]),\n",
      "                            'optimal_value': -2.0501409871938034,\n",
      "                            'optimizer_evals': 50,\n",
      "                            'optimizer_time': 5.067216700000245},\n",
      "    'computed_dipole_moment': (0.0, 1.8540261267153375, 3.2114279269101065),\n",
      "    'computed_electronic_energy': -2.0501409871938034,\n",
      "    'frozen_extracted_dipole_moment': (0.0, 0.0, 0.0),\n",
      "    'frozen_extracted_energy': 0.0,\n",
      "    'hartree_fock_energy': -1.0487608362919476,\n",
      "    'magnetization': 0.0,\n",
      "    'nuclear_dipole_moment': (0.0, 2.78213641, 4.81880162),\n",
      "    'nuclear_repulsion_energy': 0.9338421369176471,\n",
      "    'num_particles': 1.9999999999999913,\n",
      "    'ph_extracted_dipole_moment': (0.0, 0.0, 0.0),\n",
      "    'ph_extracted_energy': 0.0,\n",
      "    'reverse_dipole_sign': True,\n",
      "    'total_angular_momentum': 0.0}\n"
     ]
    }
   ],
   "source": [
    "import pprint\n",
    "pp = pprint.PrettyPrinter(indent=4)\n",
    "pp.pprint(result)"
   ]
  },
  {
   "cell_type": "code",
   "execution_count": null,
   "id": "perceived-surge",
   "metadata": {},
   "outputs": [],
   "source": []
  }
 ],
 "metadata": {
  "kernelspec": {
   "display_name": "Python 3",
   "language": "python",
   "name": "python3"
  },
  "language_info": {
   "codemirror_mode": {
    "name": "ipython",
    "version": 3
   },
   "file_extension": ".py",
   "mimetype": "text/x-python",
   "name": "python",
   "nbconvert_exporter": "python",
   "pygments_lexer": "ipython3",
   "version": "3.8.5"
  }
 },
 "nbformat": 4,
 "nbformat_minor": 5
}
