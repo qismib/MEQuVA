{
 "cells": [
  {
   "cell_type": "markdown",
   "id": "renewable-coverage",
   "metadata": {},
   "source": [
    "# VQE H3 e H3+\n"
   ]
  },
  {
   "cell_type": "markdown",
   "id": "finnish-rotation",
   "metadata": {},
   "source": [
    "### Note:\n",
    "* Non imposto esplicitamente lo spin... cosa ne fa?\n",
    "* Uso la base sto3g, ma potrei anche cambiarla magari\n",
    "* Uso un operatore fermionico, ma non so bene cosa sia (così come anzhe le Z2Summetries)\n",
    "* Su wikipedia vedo una distanza di 0.9 A, io ne calcolo una minima di 1\n",
    "* Qubit mapping:\n",
    "    * Parity\n",
    "    * Jordan Wigner\n",
    "    * Altro"
   ]
  },
  {
   "cell_type": "code",
   "execution_count": 1,
   "id": "formal-worthy",
   "metadata": {},
   "outputs": [
    {
     "name": "stderr",
     "output_type": "stream",
     "text": [
      "/home/rodolfo/venv/myqiskit/lib/python3.8/site-packages/pyscf/lib/misc.py:47: H5pyDeprecationWarning: Using default_file_mode other than 'r' is deprecated. Pass the mode to h5py.File() instead.\n",
      "  h5py.get_config().default_file_mode = 'a'\n"
     ]
    }
   ],
   "source": [
    "import matplotlib.pyplot as plt\n",
    "import numpy as np\n",
    "from qiskit import Aer\n",
    "from qiskit.aqua import QuantumInstance\n",
    "from qiskit.aqua.algorithms import NumPyMinimumEigensolver, VQE\n",
    "from qiskit.aqua.components.optimizers import SLSQP\n",
    "from qiskit.chemistry import QiskitChemistryError\n",
    "from qiskit.chemistry.applications import MolecularGroundStateEnergy\n",
    "from qiskit.chemistry.algorithms import ground_state_solvers\n",
    "from qiskit.chemistry.components.initial_states import HartreeFock\n",
    "from qiskit.chemistry.components.variational_forms import UCCSD\n",
    "from qiskit.chemistry.core import QubitMappingType\n",
    "from qiskit.chemistry import FermionicOperator\n",
    "from qiskit.chemistry.drivers import PySCFDriver, UnitsType"
   ]
  },
  {
   "cell_type": "code",
   "execution_count": 2,
   "id": "alpha-silicon",
   "metadata": {},
   "outputs": [],
   "source": [
    "# Ottengo dei warnings perchè uso deprecated functions, così li evito un po' bruscamente\n",
    "import warnings\n",
    "warnings.filterwarnings(\"ignore\")"
   ]
  },
  {
   "cell_type": "code",
   "execution_count": 3,
   "id": "homeless-casting",
   "metadata": {},
   "outputs": [],
   "source": [
    "#charge 0 e spin 1 -> H3 spin 3, prob\n",
    "#charge 1 e spin 0 -> H3+ spin 0? per la regola di hund si disporranno entrambi up -> 2*(1/2+1/2) = 2, invece sembra essere 0\n",
    "\n",
    "#lo spin è 2S per come viene definita la molecola (non 2S+1)\n",
    "\n",
    "def get_driver(dist):\n",
    "    charge = 1\n",
    "    spin = 0\n",
    "    alt=np.sqrt(dist**2 - (dist/2)**2)\n",
    "    driver = PySCFDriver(atom=\"H .0 .0 .0; H .0 .0 \" + str(dist) + \"; H .0 \" + str(alt) + \" \" + str(dist/2),\n",
    "                         unit=UnitsType.ANGSTROM, spin = spin,\n",
    "                         charge=charge, basis='sto3g')\n",
    "    return driver"
   ]
  },
  {
   "cell_type": "code",
   "execution_count": 4,
   "id": "boring-woman",
   "metadata": {},
   "outputs": [],
   "source": [
    "def get_qubit_op(dist):\n",
    "    driver = get_driver(dist)\n",
    "    molecule = driver.run()\n",
    "    \n",
    "    repulsion_energy = molecule.nuclear_repulsion_energy\n",
    "    num_particles = molecule.num_alpha + molecule.num_beta\n",
    "    num_spin_orbitals = molecule.num_orbitals * 2\n",
    "    ferOp = FermionicOperator(h1=molecule.one_body_integrals, h2=molecule.two_body_integrals)\n",
    "    qubitOp = ferOp.mapping(map_type='jordan_wigner')\n",
    "    shift =  repulsion_energy\n",
    "    return qubitOp\n",
    "    #return qubitOp, num_particles, num_spin_orbitals, shift"
   ]
  },
  {
   "cell_type": "markdown",
   "id": "diverse-artwork",
   "metadata": {},
   "source": [
    "Restituisce vqe, ovvero? Da analizzare per bene\n",
    "* Qubit Mapping type:\n",
    "    * JORDAN_WIGNER\n",
    "    * PARITY\n",
    "    * BRAVYI_KITAEV"
   ]
  },
  {
   "cell_type": "code",
   "execution_count": 15,
   "id": "unlike-level",
   "metadata": {},
   "outputs": [],
   "source": [
    "def cb_create_solver(num_particles, num_orbitals,\n",
    "                        qubit_mapping, two_qubit_reduction, z2_symmetries):\n",
    "    initial_state = HartreeFock(num_orbitals, num_particles, qubit_mapping,\n",
    "                                two_qubit_reduction, z2_symmetries.sq_list)\n",
    "    var_form = UCCSD(num_orbitals=num_orbitals,\n",
    "                        num_particles=num_particles,\n",
    "                        initial_state=initial_state,\n",
    "                        qubit_mapping=qubit_mapping,\n",
    "                        two_qubit_reduction=two_qubit_reduction,\n",
    "                        z2_symmetries=z2_symmetries)\n",
    "    #print(\"NUMERO PARAMETRI: \" + str(var_form.num_parameters)) 8\n",
    "    \n",
    "    #print(var_form.num_qubits) # in questo momento la varform usa 6 qubits\n",
    "    vqe = VQE(operator = get_qubit_op(dist), \n",
    "              var_form=var_form, optimizer=SLSQP(maxiter=500), include_custom=True)\n",
    "    #vqe = VQE(var_form=var_form, optimizer=SLSQP(maxiter=500), include_custom=True)\n",
    "    #vqe.compute_minimum_eigenvalue()\n",
    "    vqe.quantum_instance = Aer.get_backend('qasm_simulator')\n",
    "    vqe.run()\n",
    "    circuit = vqe.get_optimal_circuit()\n",
    "    circuit.draw(output='mpl', filename='my_circuit.png')\n",
    "    print(vqe.optimal_params)\n",
    "    return vqe"
   ]
  },
  {
   "cell_type": "code",
   "execution_count": 16,
   "id": "loose-flight",
   "metadata": {},
   "outputs": [
    {
     "name": "stdout",
     "output_type": "stream",
     "text": [
      "Calcolo distanza: 0.8\n",
      "[-9.80155572e-06  2.92505913e-06 -9.68237679e-06  2.89102150e-06\n",
      " -7.77858746e-02  3.14193715e-08  3.85530947e-08 -7.80439449e-02]\n",
      "[-9.71261404e-06  3.05378378e-06 -9.66527761e-06  3.12806797e-06\n",
      " -7.77858846e-02 -3.87711388e-08 -3.16379495e-08 -7.80439480e-02]\n",
      "\tEnergia: -1.23572577848417\n",
      "Energia minima a 0.8 A: -1.23572577848417 eV\n"
     ]
    }
   ],
   "source": [
    "distances = np.arange(0.8, 0.9, 0.2)\n",
    "vqe_energies = []\n",
    "min = 100.0\n",
    "dismin = 0.0\n",
    "\n",
    "for dist in distances:\n",
    "    print(\"Calcolo distanza: \"+str(dist))\n",
    "    driver = get_driver(dist)\n",
    "    mgse = MolecularGroundStateEnergy(driver, \n",
    "                                  qubit_mapping=QubitMappingType.JORDAN_WIGNER,\n",
    "                                  two_qubit_reduction=False, freeze_core=False,\n",
    "                                  z2symmetry_reduction=None)\n",
    "    result = mgse.compute_energy(cb_create_solver)\n",
    "    try:\n",
    "        result = mgse.compute_energy(cb_create_solver)\n",
    "        vqe_energies.append(result.energy)\n",
    "        print(\"\\tEnergia: \" +str(result.energy))\n",
    "        if result.energy < min:\n",
    "            min = result.energy\n",
    "            dismin = dist\n",
    "    except:\n",
    "        print(\"errore\")\n",
    "        vqe_energies.append(min)\n",
    "\n",
    "print(\"Energia minima a \" + str(dismin) + \" A: \" + str(min) + \" eV\")"
   ]
  },
  {
   "cell_type": "markdown",
   "id": "short-respondent",
   "metadata": {},
   "source": [
    "Inizialmente avevo anche una soluzione con il numpy eigensolver, ma non va bene\n",
    "https://github.com/Qiskit/qiskit-aqua/issues/1162\n",
    "Hi, when the 2nd quantized Hamiltonian is built out, since it has one and two- body creation and annihilation operators in its formation, we end up with states in the Hamiltonian for every possible particle configuration. The lowest eigenvalue in that Hamiltonian, ends up being the state with those atoms where the particle configuration (from none, to fully occupied) gives that lowest energy - this may NOT be the configuration you have entered. The NumPyEigensolver just gives the lowest energy period."
   ]
  },
  {
   "cell_type": "code",
   "execution_count": 94,
   "id": "applicable-damage",
   "metadata": {},
   "outputs": [
    {
     "data": {
      "image/png": "[encoded data removed]",
      "text/plain": [
       "<Figure size 432x288 with 1 Axes>"
      ]
     },
     "metadata": {
      "needs_background": "light"
     },
     "output_type": "display_data"
    }
   ],
   "source": [
    "#plt.plot(distances, exact_energies, label=\"Numpy Energy\")\n",
    "plt.plot(distances, vqe_energies, label=\"VQE Energy\")\n",
    "plt.xlabel('Atomic distance (Angstrom)')\n",
    "plt.ylabel('Energy')\n",
    "plt.legend()\n",
    "#plt.ylim([-1.5, -1.3])\n",
    "plt.show()"
   ]
  },
  {
   "cell_type": "markdown",
   "id": "defined-classroom",
   "metadata": {},
   "source": [
    "Viene letto il file file.txt contenente energie e distanze già calcolate, se sonos tate analizzate nuove distanze le scrive in append alla fine."
   ]
  },
  {
   "cell_type": "code",
   "execution_count": 90,
   "id": "funny-trout",
   "metadata": {},
   "outputs": [],
   "source": [
    "with open('file.txt') as f:\n",
    "    #w, h = [int(x) for x in next(f).split()] # read first line\n",
    "    distanze_energie = []\n",
    "    for line in f: # read rest of lines\n",
    "        w,h=[float(x) for x in line.split()]\n",
    "        distanze_energie.append((w,h))\n",
    "f=open('file.txt', 'w+')\n",
    "i = -1\n",
    "for dist in distances:\n",
    "    i=i+1\n",
    "    if (dist,vqe_energies[i]) not in distanze_energie:\n",
    "        distanze_energie.append((dist, vqe_energies[i]))\n",
    "distanze_energie.sort(key=lambda pair: pair[0])\n",
    "for i in distanze_energie:\n",
    "    f.write(str(i[0]) + \" \" + str(i[1]) + \"\\n\")\n",
    "f.close()"
   ]
  },
  {
   "cell_type": "markdown",
   "id": "global-indian",
   "metadata": {},
   "source": [
    "Viene disegnato il grafico di quanto presente nel file file.txt"
   ]
  },
  {
   "cell_type": "code",
   "execution_count": 93,
   "id": "cultural-dallas",
   "metadata": {},
   "outputs": [
    {
     "data": {
      "image/png": "[encoded data removed]",
      "text/plain": [
       "<Figure size 432x288 with 1 Axes>"
      ]
     },
     "metadata": {
      "needs_background": "light"
     },
     "output_type": "display_data"
    }
   ],
   "source": [
    "f=open('file.txt')\n",
    "    #w, h = [int(x) for x in next(f).split()] # read first line\n",
    "distanze = []\n",
    "energie = []\n",
    "for line in f: # read rest of lines\n",
    "    w,h=[float(x) for x in line.split()]\n",
    "    distanze.append(w)\n",
    "    energie.append(h) \n",
    "plt.plot(distanze, energie, label=\"VQE Energy\")\n",
    "plt.xlabel('Atomic distance (Angstrom)')\n",
    "plt.ylabel('Energy')\n",
    "plt.legend()\n",
    "plt.ylim([-1.5, -0])\n",
    "plt.show()"
   ]
  },
  {
   "cell_type": "code",
   "execution_count": 98,
   "id": "flying-mathematics",
   "metadata": {},
   "outputs": [
    {
     "data": {
      "text/plain": [
       "3.81"
      ]
     },
     "execution_count": 98,
     "metadata": {},
     "output_type": "execute_result"
    }
   ],
   "source": [
    "3*1.27"
   ]
  },
  {
   "cell_type": "code",
   "execution_count": 120,
   "id": "geological-agreement",
   "metadata": {},
   "outputs": [
    {
     "data": {
      "text/plain": [
       "<qiskit.chemistry.drivers.pyscfd.pyscfdriver.PySCFDriver at 0x7fcadf75fdc0>"
      ]
     },
     "execution_count": 120,
     "metadata": {},
     "output_type": "execute_result"
    }
   ],
   "source": [
    "get_driver(0.9) "
   ]
  },
  {
   "cell_type": "code",
   "execution_count": 12,
   "id": "operational-planet",
   "metadata": {},
   "outputs": [
    {
     "name": "stdout",
     "output_type": "stream",
     "text": [
      "\n",
      "Total count for 00 and 11 are: {'00': 506, '11': 494}\n"
     ]
    },
    {
     "data": {
      "image/png": "[encoded data removed]",
      "text/plain": [
       "<Figure size 327.252x204.68 with 1 Axes>"
      ]
     },
     "execution_count": 12,
     "metadata": {},
     "output_type": "execute_result"
    }
   ],
   "source": [
    "import numpy as np\n",
    "from qiskit import(\n",
    "  QuantumCircuit,\n",
    "  execute,\n",
    "  Aer)\n",
    "from qiskit.visualization import plot_histogram\n",
    "\n",
    "# Use Aer's qasm_simulator\n",
    "simulator = Aer.get_backend('qasm_simulator')\n",
    "\n",
    "# Create a Quantum Circuit acting on the q register\n",
    "circuit = QuantumCircuit(2, 2)\n",
    "\n",
    "# Add a H gate on qubit 0\n",
    "circuit.h(0)\n",
    "\n",
    "# Add a CX (CNOT) gate on control qubit 0 and target qubit 1\n",
    "circuit.cx(0, 1)\n",
    "\n",
    "# Map the quantum measurement to the classical bits\n",
    "circuit.measure([0,1], [0,1])\n",
    "\n",
    "# Execute the circuit on the qasm simulator\n",
    "job = execute(circuit, simulator, shots=1000)\n",
    "\n",
    "# Grab results from the job\n",
    "result = job.result()\n",
    "\n",
    "# Returns counts\n",
    "counts = result.get_counts(circuit)\n",
    "print(\"\\nTotal count for 00 and 11 are:\",counts)\n",
    "\n",
    "# Draw the circuit\n",
    "circuit.draw(output='mpl')"
   ]
  },
  {
   "cell_type": "code",
   "execution_count": null,
   "id": "opponent-corporation",
   "metadata": {},
   "outputs": [],
   "source": []
  }
 ],
 "metadata": {
  "kernelspec": {
   "display_name": "Python 3",
   "language": "python",
   "name": "python3"
  },
  "language_info": {
   "codemirror_mode": {
    "name": "ipython",
    "version": 3
   },
   "file_extension": ".py",
   "mimetype": "text/x-python",
   "name": "python",
   "nbconvert_exporter": "python",
   "pygments_lexer": "ipython3",
   "version": "3.8.5"
  }
 },
 "nbformat": 4,
 "nbformat_minor": 5
}
