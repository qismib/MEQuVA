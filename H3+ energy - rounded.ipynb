{
 "cells": [
  {
   "cell_type": "code",
   "execution_count": 1,
   "id": "forward-manchester",
   "metadata": {},
   "outputs": [],
   "source": [
    "import warnings\n",
    "warnings.filterwarnings(\"ignore\")\n",
    "\n",
    "import matplotlib.pyplot as plt\n",
    "import numpy as np\n",
    "import pprint\n",
    "\n",
    "from qiskit import Aer\n",
    "from qiskit import QuantumCircuit\n",
    "from qiskit.aqua import QuantumInstance\n",
    "from qiskit.aqua.algorithms import NumPyMinimumEigensolver, VQE\n",
    "from qiskit.aqua.components.optimizers import SLSQP, COBYLA, CG\n",
    "from qiskit.chemistry import QiskitChemistryError\n",
    "from qiskit.chemistry.applications import MolecularGroundStateEnergy\n",
    "from qiskit.chemistry.algorithms import ground_state_solvers\n",
    "from qiskit.chemistry.components.initial_states import HartreeFock\n",
    "from qiskit.chemistry.components.variational_forms import UCCSD\n",
    "from qiskit.chemistry.core import QubitMappingType\n",
    "from qiskit.chemistry import FermionicOperator\n",
    "from qiskit.chemistry.drivers import PySCFDriver, UnitsType, HFMethodType"
   ]
  },
  {
   "cell_type": "code",
   "execution_count": 2,
   "id": "matched-pledge",
   "metadata": {},
   "outputs": [],
   "source": [
    "global qubit_mapping\n",
    "qubit_mapping = 'jordan_wigner'\n",
    "global two_qubit_reduction\n",
    "two_qubit_reduction = False\n",
    "global best_result\n",
    "global hfmethod\n",
    "hfmethod = HFMethodType.ROHF\n",
    "global var_form\n",
    "global vqe\n",
    "global ferOp"
   ]
  },
  {
   "cell_type": "code",
   "execution_count": 7,
   "id": "adjusted-anatomy",
   "metadata": {},
   "outputs": [
    {
     "name": "stdout",
     "output_type": "stream",
     "text": [
      "Interatomic Distance: 0.5 VQE Result: -0.752780559340124\n",
      "Interatomic Distance: 0.6 VQE Result: -1.0251056982904094\n",
      "Interatomic Distance: 0.7 VQE Result: -1.1699429347915227\n",
      "Interatomic Distance: 0.8 VQE Result: -1.2433091976607973\n",
      "Interatomic Distance: 0.9 VQE Result: -1.2748268158680711\n",
      "Interatomic Distance: 1.0 VQE Result: -1.2811879870428409\n",
      "Interatomic Distance: 1.1 VQE Result: -1.2722647616188205\n",
      "Interatomic Distance: 1.2 VQE Result: -1.2541320863958747\n",
      "Interatomic Distance: 1.3 VQE Result: -1.2306719058782376\n",
      "Interatomic Distance: 1.4 VQE Result: -1.2044585634762532\n",
      "Interatomic Distance: 1.5 VQE Result: -1.1772556461617938\n",
      "Interatomic Distance: 1.6 VQE Result: -1.1502958834885646\n",
      "Interatomic Distance: 1.7 VQE Result: -1.1244398862657885\n",
      "Interatomic Distance: 1.8 VQE Result: -1.1002689484912729\n",
      "Interatomic Distance: 1.9 VQE Result: -1.0781444681500578\n",
      "Interatomic Distance: 2.0 VQE Result: -1.0582520330955338\n",
      "Interatomic Distance: 2.1 VQE Result: -1.0406387304999192\n",
      "Interatomic Distance: 2.2 VQE Result: -1.0252471203656026\n",
      "Interatomic Distance: 2.3 VQE Result: -1.004615250304843\n",
      "Interatomic Distance: 2.4 VQE Result: -1.0005583676146066\n",
      "Interatomic Distance: 2.5 VQE Result: -0.9908823898731125\n",
      "Interatomic Distance: 2.6 VQE Result: -0.9793321758154573\n",
      "Interatomic Distance: 2.7 VQE Result: -0.966061897663598\n",
      "Interatomic Distance: 2.8 VQE Result: -0.9634821944909415\n",
      "Interatomic Distance: 2.9 VQE Result: -0.9598020320709958\n"
     ]
    }
   ],
   "source": [
    "backend = Aer.get_backend(\"statevector_simulator\")\n",
    "optimizer = COBYLA(maxiter=500)\n",
    "distances = np.arange(0.5, 3, 0.1)\n",
    "vqe_energies = []\n",
    "min = 100.0\n",
    "dismin = 0.0\n",
    "\n",
    "for dist in distances:\n",
    "    charge = 1\n",
    "    spin = 2   \n",
    "    alt=np.sqrt(dist**2 - (dist/2)**2)\n",
    "    mol = \"H .0 .0 .0; H .0 .0 \" + str(dist) + \"; H .0 \" + str(alt) + \" \" + str(dist/2)\n",
    "    driver = PySCFDriver(atom = mol,\n",
    "                         unit=UnitsType.ANGSTROM, spin = spin,\n",
    "                         charge=charge, basis='sto-6g',hf_method=hfmethod)\n",
    "    \n",
    "    molecule = driver.run()\n",
    "    \n",
    "    shift = molecule.nuclear_repulsion_energy\n",
    "    num_particles = molecule.num_alpha + molecule.num_beta\n",
    "    num_orbitals = molecule.num_orbitals\n",
    "    num_spin_orbitals = num_orbitals*2\n",
    "    ferOp = FermionicOperator(h1=molecule.one_body_integrals, h2=molecule.two_body_integrals)\n",
    "    \n",
    "    qubitOp = ferOp.mapping(map_type=qubit_mapping)\n",
    "    \n",
    "    initial_state = HartreeFock(num_spin_orbitals, \n",
    "                                num_particles, \n",
    "                                qubit_mapping,\n",
    "                                two_qubit_reduction)\n",
    "    \n",
    "    var_form = UCCSD(num_orbitals=num_spin_orbitals,\n",
    "                        num_particles=num_particles,\n",
    "                        initial_state=initial_state,\n",
    "                        qubit_mapping=qubit_mapping,\n",
    "                        two_qubit_reduction=two_qubit_reduction)\n",
    "    \n",
    "    init_parm = np.zeros(var_form.num_parameters)\n",
    "    vqe = VQE(qubitOp, var_form, optimizer, initial_point=init_parm)\n",
    "    vqe_result_tot = vqe.run(backend)\n",
    "    vqe_result = np.real(vqe_result_tot['eigenvalue'] + shift)\n",
    "    vqe_energies.append(vqe_result)\n",
    "    print(\"Interatomic Distance:\", np.round(dist, 2), \n",
    "          \"VQE Result:\", vqe_result)\n",
    "    if vqe_result < min:\n",
    "        min = vqe_result\n",
    "        dismin = dist\n",
    "        best_result = vqe_result_tot"
   ]
  },
  {
   "cell_type": "code",
   "execution_count": 8,
   "id": "piano-transcription",
   "metadata": {},
   "outputs": [
    {
     "data": {
      "image/png": "[encoded data removed]",
      "text/plain": [
       "<Figure size 432x288 with 1 Axes>"
      ]
     },
     "metadata": {
      "needs_background": "light"
     },
     "output_type": "display_data"
    }
   ],
   "source": [
    "plt.plot(distances, vqe_energies, label=\"VQE Energy\")\n",
    "plt.xlabel('Atomic distance (Angstrom)')\n",
    "plt.ylabel('Energy')\n",
    "plt.legend()\n",
    "#plt.ylim([-1.5, -1.3])\n",
    "plt.show()"
   ]
  },
  {
   "cell_type": "code",
   "execution_count": 6,
   "id": "efficient-behalf",
   "metadata": {},
   "outputs": [
    {
     "name": "stdout",
     "output_type": "stream",
     "text": [
      "{   'cost_function_evals': 123,\n",
      "    'eigenstate': array([-1.17094664e-16+1.09359698e-16j, -5.86975747e-16+1.06055488e-15j,\n",
      "        7.51219849e-17+7.44336504e-17j,  5.20159447e-17+7.08089542e-17j,\n",
      "       -2.91774751e-17-7.08113993e-17j,  8.68032590e-17+6.49829836e-17j,\n",
      "        3.48527661e-17-1.13436945e-16j,  7.25294372e-17-5.34801183e-17j,\n",
      "       -4.45785160e-16+8.62405717e-16j,  9.97001467e-01-7.81108239e-15j,\n",
      "        8.42338511e-03+8.10562199e-17j,  3.89835706e-16+5.94382362e-16j,\n",
      "       -6.41873868e-06+9.92494802e-17j,  5.83833735e-16+6.10731302e-16j,\n",
      "        4.14621861e-17-7.22838264e-17j, -8.91426645e-17-1.40801050e-16j,\n",
      "        3.85852601e-17+6.09446637e-17j,  8.46523777e-03-1.33885403e-16j,\n",
      "       -5.40510791e-02+3.68245773e-16j, -9.81969514e-18-4.28292951e-17j,\n",
      "       -6.08826405e-05+1.05129757e-16j,  5.64300143e-17+1.29424735e-17j,\n",
      "       -5.53588045e-17-4.10028139e-17j, -1.26766858e-17+5.64268281e-17j,\n",
      "       -1.48247074e-16-4.40662122e-17j,  5.61338141e-16+5.60608122e-16j,\n",
      "       -1.01445368e-17+5.77697098e-17j,  1.21069556e-17+2.58938595e-17j,\n",
      "       -1.92894421e-17+7.71930509e-17j, -3.98809614e-17+4.46019155e-17j,\n",
      "        8.97186840e-17-9.47492690e-18j, -3.20639165e-17+4.15928739e-17j,\n",
      "        1.16247762e-18+1.08328426e-16j,  2.67873507e-06-1.08232809e-16j,\n",
      "        4.26632135e-05+1.35542473e-16j,  1.03806500e-18+2.21674079e-17j,\n",
      "       -5.40734417e-02+3.92540673e-16j,  9.71445147e-17-1.69502813e-16j,\n",
      "        2.22159282e-17-1.62747775e-17j, -9.90468932e-17-1.68641312e-17j,\n",
      "        5.50603233e-17+8.49960405e-17j,  4.07326589e-16+6.24043375e-16j,\n",
      "        1.04045967e-17+1.63772529e-16j,  2.07557094e-17-6.95996231e-17j,\n",
      "       -4.52950207e-18-1.27220209e-16j, -1.04051743e-17-2.73470517e-17j,\n",
      "        7.88140946e-17-1.67950755e-16j,  8.01332494e-17+5.33255470e-18j,\n",
      "        6.74514763e-17-3.23591460e-17j,  6.10209572e-17-2.70948709e-18j,\n",
      "       -2.96654698e-17+1.98258526e-17j, -3.42082890e-17+1.44730508e-17j,\n",
      "        1.01886418e-16+1.53014190e-17j,  3.56158712e-17-2.81652726e-17j,\n",
      "        1.60953824e-17+5.33405565e-17j, -1.61311760e-17+1.77073352e-17j,\n",
      "       -5.46984703e-17+3.09107946e-17j,  1.80342582e-18+1.02260869e-16j,\n",
      "       -1.01121300e-16+3.88824625e-17j, -6.36617231e-17-8.45207927e-18j,\n",
      "       -6.64937869e-17+1.32263504e-18j, -7.39309170e-17-2.61461131e-18j,\n",
      "       -2.43733029e-17+2.20437249e-17j, -3.49540341e-17+2.58720364e-17j]),\n",
      "    'eigenvalue': (-3.927843824860124+0j),\n",
      "    'optimal_parameters': {   Parameter(θ[2]): 0.00846563923989276,\n",
      "                              Parameter(θ[1]): -6.419196449609676e-06,\n",
      "                              Parameter(θ[0]): 0.008423786588637565,\n",
      "                              Parameter(θ[7]): -0.05418298464156091,\n",
      "                              Parameter(θ[5]): 4.2706126752066126e-05,\n",
      "                              Parameter(θ[3]): 2.678926106543643e-06,\n",
      "                              Parameter(θ[6]): -6.092170828062478e-05,\n",
      "                              Parameter(θ[4]): -0.0541526087403986},\n",
      "    'optimal_point': array([ 8.42378659e-03, -6.41919645e-06,  8.46563924e-03,  2.67892611e-06,\n",
      "       -5.41526087e-02,  4.27061268e-05, -6.09217083e-05, -5.41829846e-02]),\n",
      "    'optimal_value': -3.927843824860124,\n",
      "    'optimizer_evals': 123,\n",
      "    'optimizer_time': 11.247447699999611}\n"
     ]
    }
   ],
   "source": [
    "pp = pprint.PrettyPrinter(indent=4)\n",
    "pp.pprint(best_result)"
   ]
  },
  {
   "cell_type": "code",
   "execution_count": 48,
   "id": "likely-suffering",
   "metadata": {},
   "outputs": [
    {
     "name": "stdout",
     "output_type": "stream",
     "text": [
      "('IIIIII\\t(-1.9399515378361785+0j)\\n'\n",
      " 'IIIIIZ\\t(0.3665168794494104+0j)\\n'\n",
      " 'IIIIYY\\t(-0.0053160559104534185+0j)\\n'\n",
      " 'IIIIXX\\t(-0.0053160559104534185+0j)\\n'\n",
      " 'IIIIZI\\t(-0.291993836783662+0j)\\n'\n",
      " 'IIIZII\\t(-0.2920367496903666+0j)\\n'\n",
      " 'IIZIII\\t(0.3665168794494105+0j)\\n'\n",
      " 'IYYIII\\t(-0.0053160559104534185+0j)\\n'\n",
      " 'IXXIII\\t(-0.0053160559104534185+0j)\\n'\n",
      " 'IZIIII\\t(-0.29199383678366203+0j)\\n'\n",
      " 'ZIIIII\\t(-0.2920367496903667+0j)\\n'\n",
      " 'IIIIZZ\\t(0.13435833692115612+0j)\\n'\n",
      " 'IIIZIZ\\t(0.1343589364542294+0j)\\n'\n",
      " 'IIIZYY\\t(7.427022718487159e-05+0j)\\n'\n",
      " 'IIIZXX\\t(7.427022718487159e-05+0j)\\n'\n",
      " 'IIZIIZ\\t(0.17580800300172073+0j)\\n'\n",
      " 'IIZIYY\\t(0.0005597918131280862+0j)\\n'\n",
      " 'IIZIXX\\t(0.0005597918131280862+0j)\\n'\n",
      " 'IIZYZY\\t(3.1180400425159826e-06+0j)\\n'\n",
      " 'IIZXZX\\t(3.1180400425159826e-06+0j)\\n'\n",
      " 'IXXIIZ\\t(0.0005597918131280862+0j)\\n'\n",
      " 'IYYIIZ\\t(0.0005597918131280862+0j)\\n'\n",
      " 'IXXIYY\\t(0.03688199734099208+0j)\\n'\n",
      " 'IYYIYY\\t(0.03688199734099208+0j)\\n'\n",
      " 'IXXIXX\\t(0.03688199734099208+0j)\\n'\n",
      " 'IYYIXX\\t(0.03688199734099208+0j)\\n'\n",
      " 'IXXYZY\\t(0.00025750038732751774+0j)\\n'\n",
      " 'IYYYZY\\t(0.00025750038732751774+0j)\\n'\n",
      " 'IXXXZX\\t(0.00025750038732751774+0j)\\n'\n",
      " 'IYYXZX\\t(0.00025750038732751774+0j)\\n'\n",
      " 'XZXIIZ\\t(3.118040042515983e-06+0j)\\n'\n",
      " 'YZYIIZ\\t(3.118040042515983e-06+0j)\\n'\n",
      " 'XZXIYY\\t(0.00025750038732751774+0j)\\n'\n",
      " 'YZYIYY\\t(0.00025750038732751774+0j)\\n'\n",
      " 'XZXIXX\\t(0.00025750038732751774+0j)\\n'\n",
      " 'YZYIXX\\t(0.00025750038732751774+0j)\\n'\n",
      " 'XZXYZY\\t(0.03706161413452785+0j)\\n'\n",
      " 'YZYYZY\\t(0.03706161413452785+0j)\\n'\n",
      " 'XZXXZX\\t(0.03706161413452785+0j)\\n'\n",
      " 'YZYXZX\\t(0.03706161413452785+0j)\\n'\n",
      " 'IZIIIZ\\t(0.17124033426214819+0j)\\n'\n",
      " 'IZIIYY\\t(-0.005821678798917316+0j)\\n'\n",
      " 'IZIIXX\\t(-0.005821678798917316+0j)\\n'\n",
      " 'IZIYZY\\t(0.015948030058410785+0j)\\n'\n",
      " 'IZIXZX\\t(0.015948030058410785+0j)\\n'\n",
      " 'XXIIIZ\\t(-0.0002575003873273755+0j)\\n'\n",
      " 'YYIIIZ\\t(-0.0002575003873273755+0j)\\n'\n",
      " 'XXIIYY\\t(-0.015948030058408686+0j)\\n'\n",
      " 'YYIIYY\\t(-0.015948030058408686+0j)\\n'\n",
      " 'XXIIXX\\t(-0.015948030058408686+0j)\\n'\n",
      " 'YYIIXX\\t(-0.015948030058408686+0j)\\n'\n",
      " 'XXIYZY\\t(-0.005167515456084021+0j)\\n'\n",
      " 'YYIYZY\\t(-0.005167515456084021+0j)\\n'\n",
      " 'XXIXZX\\t(-0.005167515456084021+0j)\\n'\n",
      " 'YYIXZX\\t(-0.005167515456084021+0j)\\n'\n",
      " 'ZIIIIZ\\t(0.17142055058875727+0j)\\n'\n",
      " 'ZIIIYY\\t(0.005241785683268892+0j)\\n'\n",
      " 'ZIIIXX\\t(0.005241785683268892+0j)\\n'\n",
      " 'ZIIYZY\\t(-0.01595114809845135+0j)\\n'\n",
      " 'ZIIXZX\\t(-0.01595114809845135+0j)\\n'\n",
      " 'IIIZZI\\t(0.1435589413680606+0j)\\n'\n",
      " 'IIZIZI\\t(0.17124033426214819+0j)\\n'\n",
      " 'IIZYYI\\t(-0.0002575003873273755+0j)\\n'\n",
      " 'IIZXXI\\t(-0.0002575003873273755+0j)\\n'\n",
      " 'IXXIZI\\t(-0.005821678798917316+0j)\\n'\n",
      " 'IYYIZI\\t(-0.005821678798917316+0j)\\n'\n",
      " 'IXXYYI\\t(-0.015948030058408686+0j)\\n'\n",
      " 'IYYYYI\\t(-0.015948030058408686+0j)\\n'\n",
      " 'IXXXXI\\t(-0.015948030058408686+0j)\\n'\n",
      " 'IYYXXI\\t(-0.015948030058408686+0j)\\n'\n",
      " 'XZXIZI\\t(0.015948030058410785+0j)\\n'\n",
      " 'YZYIZI\\t(0.015948030058410785+0j)\\n'\n",
      " 'XZXYYI\\t(-0.0051675154560840205+0j)\\n'\n",
      " 'YZYYYI\\t(-0.0051675154560840205+0j)\\n'\n",
      " 'XZXXXI\\t(-0.0051675154560840205+0j)\\n'\n",
      " 'YZYXXI\\t(-0.0051675154560840205+0j)\\n'\n",
      " 'IZIIZI\\t(0.18688337614918565+0j)\\n'\n",
      " 'IZIYYI\\t(0.0003862631658998131+0j)\\n'\n",
      " 'IZIXXI\\t(0.0003862631658998131+0j)\\n'\n",
      " 'XXIIZI\\t(0.0003862631658998131+0j)\\n'\n",
      " 'YYIIZI\\t(0.0003862631658998131+0j)\\n'\n",
      " 'XXIYYI\\t(0.014296246625630794+0j)\\n'\n",
      " 'YYIYYI\\t(0.014296246625630794+0j)\\n'\n",
      " 'XXIXXI\\t(0.014296246625630794+0j)\\n'\n",
      " 'YYIXXI\\t(0.014296246625630794+0j)\\n'\n",
      " 'ZIIIZI\\t(0.15785518799369141+0j)\\n'\n",
      " 'ZIIYYI\\t(-0.0001287627785725918+0j)\\n'\n",
      " 'ZIIXXI\\t(-0.0001287627785725918+0j)\\n'\n",
      " 'IIZZII\\t(0.17142055058875727+0j)\\n'\n",
      " 'IXXZII\\t(0.005241785683268892+0j)\\n'\n",
      " 'IYYZII\\t(0.005241785683268892+0j)\\n'\n",
      " 'XZXZII\\t(-0.01595114809845135+0j)\\n'\n",
      " 'YZYZII\\t(-0.01595114809845135+0j)\\n'\n",
      " 'IZIZII\\t(0.15785518799369141+0j)\\n'\n",
      " 'XXIZII\\t(-0.00012876277857259177+0j)\\n'\n",
      " 'YYIZII\\t(-0.00012876277857259177+0j)\\n'\n",
      " 'ZIIZII\\t(0.1867029975584236+0j)\\n'\n",
      " 'IZZIII\\t(0.13435833692115612+0j)\\n'\n",
      " 'ZIZIII\\t(0.1343589364542294+0j)\\n'\n",
      " 'ZYYIII\\t(7.427022718487159e-05+0j)\\n'\n",
      " 'ZXXIII\\t(7.427022718487159e-05+0j)\\n'\n",
      " 'ZZIIII\\t(0.1435589413680606+0j)\\n')\n"
     ]
    }
   ],
   "source": [
    "pp.pprint(ferOp.mapping(qubit_mapping).simplify().print_details())"
   ]
  },
  {
   "cell_type": "code",
   "execution_count": 4,
   "id": "cosmetic-routine",
   "metadata": {},
   "outputs": [
    {
     "data": {
      "text/plain": [
       "[[0, 1], [0, 2], [3, 4], [3, 5]]"
      ]
     },
     "execution_count": 4,
     "metadata": {},
     "output_type": "execute_result"
    }
   ],
   "source": [
    "var_form.single_excitations "
   ]
  },
  {
   "cell_type": "code",
   "execution_count": 5,
   "id": "handled-closure",
   "metadata": {},
   "outputs": [
    {
     "data": {
      "text/plain": [
       "[[0, 1, 3, 4], [0, 1, 3, 5], [0, 2, 3, 4], [0, 2, 3, 5]]"
      ]
     },
     "execution_count": 5,
     "metadata": {},
     "output_type": "execute_result"
    }
   ],
   "source": [
    "var_form.double_excitations"
   ]
  },
  {
   "cell_type": "code",
   "execution_count": null,
   "id": "configured-scientist",
   "metadata": {},
   "outputs": [],
   "source": []
  }
 ],
 "metadata": {
  "kernelspec": {
   "display_name": "Python 3",
   "language": "python",
   "name": "python3"
  },
  "language_info": {
   "codemirror_mode": {
    "name": "ipython",
    "version": 3
   },
   "file_extension": ".py",
   "mimetype": "text/x-python",
   "name": "python",
   "nbconvert_exporter": "python",
   "pygments_lexer": "ipython3",
   "version": "3.8.5"
  }
 },
 "nbformat": 4,
 "nbformat_minor": 5
}
