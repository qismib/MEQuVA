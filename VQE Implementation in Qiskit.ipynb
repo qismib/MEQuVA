{
 "cells": [
  {
   "cell_type": "markdown",
   "id": "advance-wednesday",
   "metadata": {},
   "source": [
    "# VQE Implementation in Qiskit\n",
    "\n",
    "all taken from https://qiskit.org/textbook/ch-applications/vqe-molecules.html"
   ]
  },
  {
   "cell_type": "code",
   "execution_count": 21,
   "id": "subtle-asbestos",
   "metadata": {},
   "outputs": [],
   "source": [
    "from qiskit.aqua.algorithms import VQE, NumPyEigensolver\n",
    "import matplotlib.pyplot as plt\n",
    "import numpy as np\n",
    "from qiskit.chemistry.components.variational_forms import UCCSD\n",
    "from qiskit.chemistry.components.initial_states import HartreeFock\n",
    "from qiskit.circuit.library import EfficientSU2\n",
    "from qiskit.aqua.components.optimizers import COBYLA, SPSA, SLSQP\n",
    "from qiskit.aqua.operators import Z2Symmetries\n",
    "from qiskit import IBMQ, BasicAer, Aer\n",
    "from qiskit.chemistry.drivers import PySCFDriver, UnitsType\n",
    "from qiskit.chemistry import FermionicOperator\n",
    "from qiskit.aqua import QuantumInstance\n",
    "from qiskit.ignis.mitigation.measurement import CompleteMeasFitter\n",
    "from qiskit.providers.aer.noise import NoiseModel\n"
   ]
  },
  {
   "cell_type": "markdown",
   "id": "formal-henry",
   "metadata": {},
   "source": [
    "* PySCFDriver         at https://qiskit.org/documentation/stubs/qiskit.chemistry.drivers.PySCFDriver.html\n",
    "* FermionicOperator   at https://qiskit.org/documentation/stubs/qiskit.chemistry.FermionicOperator.html\n",
    "* WeigtedPaulOperator at https://qiskit.org/documentation/stubs/qiskit.aqua.operators.legacy.WeightedPauliOperator.html\n",
    "* USSD at https://qiskit.org/documentation/_modules/qiskit/chemistry/components/variational_forms/uccsd.html"
   ]
  },
  {
   "cell_type": "code",
   "execution_count": 2,
   "id": "alternative-messenger",
   "metadata": {},
   "outputs": [],
   "source": [
    "def get_qubit_op(dist):\n",
    "    driver = PySCFDriver(atom=\"Li .0 .0 .0; H .0 .0 \" + str(dist), unit=UnitsType.ANGSTROM, \n",
    "                         charge=0, spin=0, basis='sto3g')\n",
    "    molecule = driver.run()\n",
    "    freeze_list = [0]\n",
    "    remove_list = [-3, -2]\n",
    "    repulsion_energy = molecule.nuclear_repulsion_energy\n",
    "    num_particles = molecule.num_alpha + molecule.num_beta\n",
    "    num_spin_orbitals = molecule.num_orbitals * 2\n",
    "    remove_list = [x % molecule.num_orbitals for x in remove_list]\n",
    "    freeze_list = [x % molecule.num_orbitals for x in freeze_list]\n",
    "    remove_list = [x - len(freeze_list) for x in remove_list]\n",
    "    remove_list += [x + molecule.num_orbitals - len(freeze_list)  for x in remove_list]\n",
    "    freeze_list += [x + molecule.num_orbitals for x in freeze_list]\n",
    "    ferOp = FermionicOperator(h1=molecule.one_body_integrals, h2=molecule.two_body_integrals)\n",
    "    ferOp, energy_shift = ferOp.fermion_mode_freezing(freeze_list)\n",
    "    num_spin_orbitals -= len(freeze_list)\n",
    "    num_particles -= len(freeze_list)\n",
    "    ferOp = ferOp.fermion_mode_elimination(remove_list)\n",
    "    num_spin_orbitals -= len(remove_list)\n",
    "    qubitOp = ferOp.mapping(map_type='parity', threshold=0.00000001)\n",
    "    qubitOp = Z2Symmetries.two_qubit_reduction(qubitOp, num_particles)\n",
    "    shift = energy_shift + repulsion_energy\n",
    "    return qubitOp, num_particles, num_spin_orbitals, shift\n"
   ]
  },
  {
   "cell_type": "code",
   "execution_count": 3,
   "id": "severe-halifax",
   "metadata": {},
   "outputs": [
    {
     "name": "stdout",
     "output_type": "stream",
     "text": [
      "Interatomic Distance: 0.5 VQE Result: -7.039710214069133 Exact Energy: [-7.03973252]\n",
      "Interatomic Distance: 0.6 VQE Result: -7.313344302436685 Exact Energy: [-7.31334583]\n",
      "Interatomic Distance: 0.7 VQE Result: -7.500921095928959 Exact Energy: [-7.50092209]\n",
      "Interatomic Distance: 0.8 VQE Result: -7.630976915350816 Exact Energy: [-7.63097825]\n",
      "Interatomic Distance: 0.9 VQE Result: -7.72081079472755 Exact Energy: [-7.72081241]\n",
      "Interatomic Distance: 1.0 VQE Result: -7.782240655309355 Exact Energy: [-7.7822424]\n",
      "Interatomic Distance: 1.1 VQE Result: -7.823597492995967 Exact Energy: [-7.82359928]\n",
      "Interatomic Distance: 1.2 VQE Result: -7.850696622908224 Exact Energy: [-7.85069838]\n",
      "Interatomic Distance: 1.3 VQE Result: -7.867561602162162 Exact Energy: [-7.86756329]\n",
      "Interatomic Distance: 1.4 VQE Result: -7.876999876400026 Exact Energy: [-7.87700149]\n",
      "Interatomic Distance: 1.5 VQE Result: -7.881014173887156 Exact Energy: [-7.88101572]\n",
      "Interatomic Distance: 1.6 VQE Result: -7.881070663278019 Exact Energy: [-7.88107204]\n",
      "Interatomic Distance: 1.7 VQE Result: -7.878267162092627 Exact Energy: [-7.87826817]\n",
      "Interatomic Distance: 1.8 VQE Result: -7.873440111968228 Exact Energy: [-7.87344029]\n",
      "Interatomic Distance: 1.9 VQE Result: -7.8672336667095255 Exact Energy: [-7.86723396]\n",
      "Interatomic Distance: 2.0 VQE Result: -7.860152327707708 Exact Energy: [-7.86015321]\n",
      "Interatomic Distance: 2.1 VQE Result: -7.852595105495871 Exact Energy: [-7.85259583]\n",
      "Interatomic Distance: 2.2 VQE Result: -7.844878726213972 Exact Energy: [-7.84487909]\n",
      "Interatomic Distance: 2.3 VQE Result: -7.8372574396191 Exact Energy: [-7.83725797]\n",
      "Interatomic Distance: 2.4 VQE Result: -7.829935044762715 Exact Energy: [-7.829937]\n",
      "Interatomic Distance: 2.5 VQE Result: -7.823070191415771 Exact Energy: [-7.82307664]\n",
      "Interatomic Distance: 2.6 VQE Result: -7.816782591705776 Exact Energy: [-7.81679515]\n",
      "Interatomic Distance: 2.7 VQE Result: -7.811153438019938 Exact Energy: [-7.81116828]\n",
      "Interatomic Distance: 2.8 VQE Result: -7.806218297952352 Exact Energy: [-7.80622956]\n",
      "Interatomic Distance: 2.9 VQE Result: -7.8019623974299614 Exact Energy: [-7.8019736]\n",
      "Interatomic Distance: 3.0 VQE Result: -7.798352411410347 Exact Energy: [-7.79836343]\n",
      "Interatomic Distance: 3.1 VQE Result: -7.795326815513692 Exact Energy: [-7.79534045]\n",
      "Interatomic Distance: 3.2 VQE Result: -7.7928006977583415 Exact Energy: [-7.79283481]\n",
      "Interatomic Distance: 3.3 VQE Result: -7.790603797172064 Exact Energy: [-7.79077401]\n",
      "Interatomic Distance: 3.4 VQE Result: -7.7887153457285665 Exact Energy: [-7.7890889]\n",
      "Interatomic Distance: 3.5 VQE Result: -7.787215774348695 Exact Energy: [-7.78771697]\n",
      "Interatomic Distance: 3.6 VQE Result: -7.786080388007236 Exact Energy: [-7.78660376]\n",
      "Interatomic Distance: 3.7 VQE Result: -7.785203508611524 Exact Energy: [-7.78570291]\n",
      "Interatomic Distance: 3.8 VQE Result: -7.784479538389634 Exact Energy: [-7.78497559]\n",
      "Interatomic Distance: 3.9 VQE Result: -7.783853372913746 Exact Energy: [-7.78438961]\n",
      "All energies have been calculated\n"
     ]
    }
   ],
   "source": [
    "backend = BasicAer.get_backend(\"statevector_simulator\")\n",
    "distances = np.arange(0.5, 4.0, 0.1)\n",
    "exact_energies = []\n",
    "vqe_energies = []\n",
    "optimizer = SLSQP(maxiter=5)\n",
    "for dist in distances:\n",
    "    qubitOp, num_particles, num_spin_orbitals, shift = get_qubit_op(dist)\n",
    "    result = NumPyEigensolver(qubitOp).run()\n",
    "    exact_energies.append(np.real(result.eigenvalues) + shift)\n",
    "    initial_state = HartreeFock(\n",
    "        num_spin_orbitals,\n",
    "        num_particles,\n",
    "        qubit_mapping='parity'\n",
    "    ) \n",
    "    var_form = UCCSD(\n",
    "        num_orbitals=num_spin_orbitals,\n",
    "        num_particles=num_particles,\n",
    "        initial_state=initial_state,\n",
    "        qubit_mapping='parity'\n",
    "    )\n",
    "    vqe = VQE(qubitOp, var_form, optimizer)\n",
    "    vqe_result = np.real(vqe.run(backend)['eigenvalue'] + shift)\n",
    "    vqe_energies.append(vqe_result)\n",
    "    print(\"Interatomic Distance:\", np.round(dist, 2), \"VQE Result:\", vqe_result, \"Exact Energy:\", exact_energies[-1])\n",
    "    \n",
    "print(\"All energies have been calculated\")\n"
   ]
  },
  {
   "cell_type": "code",
   "execution_count": 6,
   "id": "broke-alliance",
   "metadata": {},
   "outputs": [
    {
     "data": {
      "image/png": "[encoded data removed]",
      "text/plain": [
       "<Figure size 432x288 with 1 Axes>"
      ]
     },
     "metadata": {
      "needs_background": "light"
     },
     "output_type": "display_data"
    }
   ],
   "source": [
    "plt.plot(distances, exact_energies, label=\"Exact Energy\")\n",
    "plt.plot(distances, vqe_energies, label=\"VQE Energy\")\n",
    "plt.xlabel('Atomic distance (Angstrom)')\n",
    "plt.ylabel('Energy')\n",
    "plt.legend()\n",
    "plt.show()\n"
   ]
  },
  {
   "cell_type": "code",
   "execution_count": 7,
   "id": "peaceful-cursor",
   "metadata": {},
   "outputs": [],
   "source": [
    "qubitOp, num_particles, num_spin_orbitals, shift = get_qubit_op(1.3)\n",
    "                                                        "
   ]
  },
  {
   "cell_type": "code",
   "execution_count": 17,
   "id": "extraordinary-integral",
   "metadata": {},
   "outputs": [
    {
     "data": {
      "text/plain": [
       "4"
      ]
     },
     "execution_count": 17,
     "metadata": {},
     "output_type": "execute_result"
    }
   ],
   "source": [
    "qubitOp.num_qubits"
   ]
  },
  {
   "cell_type": "code",
   "execution_count": 19,
   "id": "surprised-vault",
   "metadata": {},
   "outputs": [
    {
     "data": {
      "text/plain": [
       "'IIII\\t(-0.19624488017342284+0j)\\nIIIZ\\t(-0.08741298837082455+0j)\\nIIZX\\t(-0.001888758054164783+0j)\\nIIIX\\t(0.001888758054164783+0j)\\nIIXX\\t(0.0011643387240968918+0j)\\nIIYY\\t(-0.0011643387240968918+0j)\\nIIZZ\\t(-0.21027042683592773+0j)\\nIIXZ\\t(0.02046874508349881+0j)\\nIIXI\\t(0.02046874508349881+0j)\\nIIZI\\t(0.3908458324060484+0j)\\nIZII\\t(0.08741298837082459+0j)\\nZXII\\t(0.0018887580541647874+0j)\\nIXII\\t(0.0018887580541647874+0j)\\nXXII\\t(0.0011643387240968864+0j)\\nYYII\\t(-0.0011643387240968864+0j)\\nZZII\\t(-0.21027042683592756+0j)\\nXZII\\t(-0.020468745083498805+0j)\\nXIII\\t(0.020468745083498805+0j)\\nZIII\\t(-0.3908458324060485+0j)\\nIZIZ\\t(-0.12706341392663112+0j)\\nIZZX\\t(0.010965819553473468+0j)\\nIZIX\\t(-0.010965819553473468+0j)\\nIZXX\\t(0.03611266801865108+0j)\\nIZYY\\t(-0.03611266801865108+0j)\\nIXIZ\\t(0.01096581955347347+0j)\\nZXIZ\\t(0.01096581955347347+0j)\\nIXZX\\t(-0.0026782907385780276+0j)\\nZXZX\\t(-0.0026782907385780276+0j)\\nIXIX\\t(0.0026782907385780276+0j)\\nZXIX\\t(0.0026782907385780276+0j)\\nIXXX\\t(-0.007918643141571924+0j)\\nZXXX\\t(-0.007918643141571924+0j)\\nIXYY\\t(0.007918643141571924+0j)\\nZXYY\\t(0.007918643141571924+0j)\\nYYIZ\\t(0.03611266801865108+0j)\\nXXIZ\\t(-0.03611266801865108+0j)\\nYYZX\\t(-0.007918643141571922+0j)\\nXXZX\\t(0.007918643141571922+0j)\\nYYIX\\t(0.007918643141571922+0j)\\nXXIX\\t(-0.007918643141571922+0j)\\nYYXX\\t(-0.030469381512360644+0j)\\nXXXX\\t(0.030469381512360644+0j)\\nYYYY\\t(0.030469381512360644+0j)\\nXXYY\\t(-0.030469381512360644+0j)\\nZZIZ\\t(0.058411672914893825+0j)\\nZZZX\\t(0.0008621275106544082+0j)\\nZZIX\\t(-0.0008621275106544082+0j)\\nZZXX\\t(0.0003807652481677824+0j)\\nZZYY\\t(-0.0003807652481677824+0j)\\nXIIZ\\t(0.01260461977988661+0j)\\nXZIZ\\t(-0.01260461977988661+0j)\\nXIZX\\t(-0.0017062762273329555+0j)\\nXZZX\\t(0.0017062762273329555+0j)\\nXIIX\\t(0.0017062762273329555+0j)\\nXZIX\\t(-0.0017062762273329555+0j)\\nXIXX\\t(-0.007475679601224488+0j)\\nXZXX\\t(0.007475679601224488+0j)\\nXIYY\\t(0.007475679601224488+0j)\\nXZYY\\t(-0.007475679601224488+0j)\\nZIIZ\\t(0.11531804597873588+0j)\\nZIZX\\t(-0.009939431894290847+0j)\\nZIIX\\t(0.009939431894290847+0j)\\nZIXX\\t(-0.03765778608249784+0j)\\nZIYY\\t(0.03765778608249784+0j)\\nIZZZ\\t(-0.058411672914893825+0j)\\nIZXZ\\t(-0.01260461977988661+0j)\\nIZXI\\t(-0.01260461977988661+0j)\\nIXZZ\\t(-0.0008621275106544082+0j)\\nZXZZ\\t(-0.0008621275106544082+0j)\\nIXXZ\\t(0.0017062762273329557+0j)\\nZXXZ\\t(0.0017062762273329557+0j)\\nIXXI\\t(0.0017062762273329557+0j)\\nZXXI\\t(0.0017062762273329557+0j)\\nYYZZ\\t(-0.0003807652481677824+0j)\\nXXZZ\\t(0.0003807652481677824+0j)\\nYYXZ\\t(0.007475679601224488+0j)\\nXXXZ\\t(-0.007475679601224488+0j)\\nYYXI\\t(0.007475679601224488+0j)\\nXXXI\\t(-0.007475679601224488+0j)\\nZZZZ\\t(0.08496781268823099+0j)\\nZZXZ\\t(-0.009063206085032596+0j)\\nZZXI\\t(-0.009063206085032596+0j)\\nXIZZ\\t(-0.009063206085032596+0j)\\nXZZZ\\t(0.009063206085032596+0j)\\nXIXZ\\t(0.006604932099026481+0j)\\nXZXZ\\t(-0.006604932099026481+0j)\\nXIXI\\t(0.006604932099026481+0j)\\nXZXI\\t(-0.006604932099026481+0j)\\nZIZZ\\t(0.06068306096335658+0j)\\nZIXZ\\t(0.01057096258279584+0j)\\nZIXI\\t(0.01057096258279584+0j)\\nIZZI\\t(0.11531804597873588+0j)\\nIXZI\\t(-0.009939431894290847+0j)\\nZXZI\\t(-0.009939431894290847+0j)\\nYYZI\\t(-0.03765778608249784+0j)\\nXXZI\\t(0.03765778608249784+0j)\\nZZZI\\t(-0.06068306096335658+0j)\\nXIZI\\t(-0.01057096258279584+0j)\\nXZZI\\t(0.01057096258279584+0j)\\nZIZI\\t(-0.11380588704210504+0j)\\n'"
      ]
     },
     "execution_count": 19,
     "metadata": {},
     "output_type": "execute_result"
    }
   ],
   "source": [
    "qubitOp.print_details()"
   ]
  },
  {
   "cell_type": "code",
   "execution_count": 20,
   "id": "reserved-textbook",
   "metadata": {},
   "outputs": [
    {
     "ename": "AttributeError",
     "evalue": "'WeightedPauliOperator' object has no attribute 'draw'",
     "output_type": "error",
     "traceback": [
      "\u001b[0;31m---------------------------------------------------------------------------\u001b[0m",
      "\u001b[0;31mAttributeError\u001b[0m                            Traceback (most recent call last)",
      "\u001b[0;32m<ipython-input-20-7a6fb15efaae>\u001b[0m in \u001b[0;36m<module>\u001b[0;34m\u001b[0m\n\u001b[0;32m----> 1\u001b[0;31m \u001b[0mqubitOp\u001b[0m\u001b[0;34m.\u001b[0m\u001b[0mdraw\u001b[0m\u001b[0;34m(\u001b[0m\u001b[0moutput\u001b[0m\u001b[0;34m=\u001b[0m\u001b[0;34m'mpl'\u001b[0m\u001b[0;34m)\u001b[0m\u001b[0;34m\u001b[0m\u001b[0;34m\u001b[0m\u001b[0m\n\u001b[0m",
      "\u001b[0;31mAttributeError\u001b[0m: 'WeightedPauliOperator' object has no attribute 'draw'"
     ]
    }
   ],
   "source": [
    "qubitOp.draw(output='mpl')"
   ]
  },
  {
   "cell_type": "code",
   "execution_count": null,
   "id": "provincial-location",
   "metadata": {},
   "outputs": [],
   "source": []
  }
 ],
 "metadata": {
  "kernelspec": {
   "display_name": "Python 3",
   "language": "python",
   "name": "python3"
  },
  "language_info": {
   "codemirror_mode": {
    "name": "ipython",
    "version": 3
   },
   "file_extension": ".py",
   "mimetype": "text/x-python",
   "name": "python",
   "nbconvert_exporter": "python",
   "pygments_lexer": "ipython3",
   "version": "3.8.5"
  }
 },
 "nbformat": 4,
 "nbformat_minor": 5
}
