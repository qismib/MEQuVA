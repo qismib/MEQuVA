{
 "cells": [
  {
   "cell_type": "code",
   "execution_count": 2,
   "id": "forward-manchester",
   "metadata": {},
   "outputs": [],
   "source": [
    "import warnings\n",
    "warnings.filterwarnings(\"ignore\")\n",
    "\n",
    "import matplotlib.pyplot as plt\n",
    "import numpy as np\n",
    "import pprint\n",
    "\n",
    "from qiskit import Aer\n",
    "from qiskit import QuantumCircuit\n",
    "from qiskit.aqua import QuantumInstance\n",
    "from qiskit.aqua.algorithms import NumPyMinimumEigensolver, VQE\n",
    "from qiskit.aqua.components.optimizers import SLSQP, COBYLA, CG\n",
    "from qiskit.chemistry import QiskitChemistryError\n",
    "from qiskit.chemistry.applications import MolecularGroundStateEnergy\n",
    "from qiskit.chemistry.algorithms import ground_state_solvers\n",
    "from qiskit.chemistry.components.initial_states import HartreeFock\n",
    "from qiskit.chemistry.components.variational_forms import UCCSD\n",
    "from qiskit.chemistry.core import QubitMappingType\n",
    "from qiskit.chemistry import FermionicOperator\n",
    "from qiskit.chemistry.drivers import PySCFDriver, UnitsType, HFMethodType"
   ]
  },
  {
   "cell_type": "code",
   "execution_count": 3,
   "id": "matched-pledge",
   "metadata": {},
   "outputs": [],
   "source": [
    "global qubit_mapping\n",
    "qubit_mapping = 'jordan_wigner'\n",
    "global two_qubit_reduction\n",
    "two_qubit_reduction = False\n",
    "global best_result\n",
    "global hfmethod\n",
    "hfmethod = HFMethodType.ROHF\n",
    "global var_form\n",
    "global vqe\n",
    "global ferOp"
   ]
  },
  {
   "cell_type": "code",
   "execution_count": 4,
   "id": "adjusted-anatomy",
   "metadata": {},
   "outputs": [
    {
     "name": "stdout",
     "output_type": "stream",
     "text": [
      "Interatomic Distance: 0.7 VQE Result: -1.169942908649416\n",
      "Interatomic Distance: 0.8 VQE Result: -1.243309199026035\n",
      "Interatomic Distance: 0.9 VQE Result: -1.2748268158680711\n",
      "Interatomic Distance: 1.0 VQE Result: -1.2811879870428409\n",
      "Interatomic Distance: 1.1 VQE Result: -1.2722647616188205\n"
     ]
    }
   ],
   "source": [
    "backend = Aer.get_backend(\"statevector_simulator\")\n",
    "optimizer = COBYLA(maxiter=500)\n",
    "distances = np.arange(0.7, 1.2, 0.1)\n",
    "vqe_energies = []\n",
    "min = 100.0\n",
    "dismin = 0.0\n",
    "\n",
    "for dist in distances:\n",
    "    charge = 1\n",
    "    spin = 2   \n",
    "    alt=np.sqrt(dist**2 - (dist/2)**2)\n",
    "    mol = \"H .0 .0 .0; H .0 .0 \" + str(dist) + \"; H .0 \" + str(alt) + \" \" + str(dist/2)\n",
    "    driver = PySCFDriver(atom = mol,\n",
    "                         unit=UnitsType.ANGSTROM, spin = spin,\n",
    "                         charge=charge, basis='sto-6g',hf_method=hfmethod)\n",
    "    \n",
    "    molecule = driver.run()\n",
    "    \n",
    "    shift = molecule.nuclear_repulsion_energy\n",
    "    num_particles = molecule.num_alpha + molecule.num_beta\n",
    "    num_orbitals = molecule.num_orbitals\n",
    "    num_spin_orbitals = num_orbitals*2\n",
    "    ferOp = FermionicOperator(h1=molecule.one_body_integrals, h2=molecule.two_body_integrals)\n",
    "    \n",
    "    qubitOp = ferOp.mapping(map_type=qubit_mapping)\n",
    "    \n",
    "    initial_state = HartreeFock(num_spin_orbitals, \n",
    "                                num_particles, \n",
    "                                qubit_mapping,\n",
    "                                two_qubit_reduction)\n",
    "    \n",
    "    var_form = UCCSD(num_orbitals=num_spin_orbitals,\n",
    "                        num_particles=num_particles,\n",
    "                        initial_state=initial_state,\n",
    "                        qubit_mapping=qubit_mapping,\n",
    "                        two_qubit_reduction=two_qubit_reduction)\n",
    "    \n",
    "    init_parm = np.zeros(var_form.num_parameters)\n",
    "    vqe = VQE(qubitOp, var_form, optimizer, initial_point=init_parm)\n",
    "    vqe_result_tot = vqe.run(backend)\n",
    "    vqe_result = np.real(vqe_result_tot['eigenvalue'] + shift)\n",
    "    vqe_energies.append(vqe_result)\n",
    "    print(\"Interatomic Distance:\", np.round(dist, 2), \n",
    "          \"VQE Result:\", vqe_result)\n",
    "    if vqe_result < min:\n",
    "        min = vqe_result\n",
    "        dismin = dist\n",
    "        best_result = vqe_result_tot"
   ]
  },
  {
   "cell_type": "markdown",
   "id": "later-atlantic",
   "metadata": {},
   "source": [
    "I plot all the calculated energies. It's clearly visible an absolute minimum"
   ]
  },
  {
   "cell_type": "code",
   "execution_count": 5,
   "id": "piano-transcription",
   "metadata": {},
   "outputs": [
    {
     "data": {
      "image/png": "[encoded data removed]",
      "text/plain": [
       "<Figure size 432x288 with 1 Axes>"
      ]
     },
     "metadata": {
      "needs_background": "light"
     },
     "output_type": "display_data"
    }
   ],
   "source": [
    "plt.plot(distances, vqe_energies, label=\"VQE Energy\")\n",
    "plt.xlabel('Atomic distance (Angstrom)')\n",
    "plt.ylabel('Energy')\n",
    "plt.legend()\n",
    "#plt.ylim([-1.5, -1.3])\n",
    "plt.show()"
   ]
  },
  {
   "cell_type": "markdown",
   "id": "composed-slovenia",
   "metadata": {},
   "source": [
    "### More VQE information\n",
    "\n",
    "I print all informations, parameter values, eigenalues (ecc. ecc.) about the best iteration of the VQE algorithm. "
   ]
  },
  {
   "cell_type": "code",
   "execution_count": 6,
   "id": "efficient-behalf",
   "metadata": {},
   "outputs": [
    {
     "name": "stdout",
     "output_type": "stream",
     "text": [
      "{   'cost_function_evals': 141,\n",
      "    'eigenstate': array([ 1.27739522e-16+2.99111260e-17j, -6.98605027e-16+1.18093618e-15j,\n",
      "        2.15834199e-17-1.16124437e-16j, -9.91520885e-18+9.02911965e-17j,\n",
      "       -1.93975641e-17-1.93552203e-18j,  3.53653212e-18+1.37290843e-17j,\n",
      "       -5.91250332e-17-7.05684467e-17j, -1.57094620e-17-1.61930742e-16j,\n",
      "       -2.63103770e-16+9.83980943e-16j,  9.85751722e-01-7.70146645e-15j,\n",
      "        7.06248160e-02-2.71145455e-16j,  3.76762973e-16+6.06936677e-16j,\n",
      "       -5.72052525e-06-1.03980927e-16j,  2.90652730e-16+5.96986264e-16j,\n",
      "       -5.61327476e-17+3.59523165e-17j,  5.17440728e-17-6.18681357e-17j,\n",
      "        8.59344087e-17-4.46503078e-17j,  7.06406056e-02-2.78588851e-16j,\n",
      "       -9.33414078e-02+4.79657400e-16j, -2.02387664e-17-6.05877950e-17j,\n",
      "       -1.80077487e-05+5.80417098e-17j,  1.06030128e-16+1.45914261e-17j,\n",
      "       -9.15010323e-17-1.11914160e-16j, -4.09042414e-17-4.54277039e-17j,\n",
      "       -1.78250000e-17+1.12924431e-16j,  4.84181241e-16+5.13188324e-16j,\n",
      "        2.44398978e-17-2.91778479e-17j, -1.75832248e-17-1.81462554e-19j,\n",
      "        1.11982419e-16-7.28229559e-17j,  7.70593922e-18-4.68297142e-17j,\n",
      "       -1.65776233e-17+1.15417590e-17j, -1.13417962e-16+1.10652453e-17j,\n",
      "       -9.91943384e-17+3.68680819e-17j, -5.58998903e-05-7.57133356e-17j,\n",
      "        4.65927137e-05+4.74824358e-17j, -5.79494640e-17-3.80245927e-17j,\n",
      "       -9.79946891e-02+6.94903123e-16j,  2.38105196e-18-7.72244673e-17j,\n",
      "       -3.67268245e-17+8.98339808e-17j,  1.59434988e-16+1.01281442e-16j,\n",
      "        1.37013241e-16+2.46132236e-17j,  5.27597325e-16+6.21231733e-16j,\n",
      "        1.21744530e-16+3.19245233e-17j, -1.63007974e-17-1.96050037e-17j,\n",
      "       -2.52101682e-16-5.61391368e-17j, -1.07949555e-16+1.27689666e-16j,\n",
      "        3.90070359e-17-6.19992172e-17j, -1.83273035e-17-4.88045197e-18j,\n",
      "       -1.79628314e-17-1.79971229e-17j,  2.59287701e-17-3.12243511e-17j,\n",
      "       -7.04551446e-17-5.65207998e-17j, -5.06372356e-17-4.19856895e-18j,\n",
      "        1.01686014e-16-3.71257891e-19j,  5.64646028e-17-4.42460246e-17j,\n",
      "       -2.39797002e-17-2.64928321e-17j,  5.10361028e-17-3.24960956e-17j,\n",
      "       -4.17747199e-17+8.27530968e-17j, -1.52780135e-17-7.53415689e-18j,\n",
      "        1.96786366e-17+4.42609814e-17j,  3.88208210e-17-2.06973246e-18j,\n",
      "        1.05999105e-16+1.10183369e-16j,  1.48067910e-17-3.62342820e-17j,\n",
      "        1.80147153e-17-3.14214281e-17j,  1.45192891e-17-4.21159194e-17j]),\n",
      "    'eigenvalue': (-2.8687196198028415+0j),\n",
      "    'optimal_parameters': {   Parameter(θ[3]): -5.618159165168481e-05,\n",
      "                              Parameter(θ[7]): -0.09908557575261968,\n",
      "                              Parameter(θ[5]): 5.1039759532299546e-05,\n",
      "                              Parameter(θ[1]): -5.74935321118623e-06,\n",
      "                              Parameter(θ[2]): 0.07087766405465276,\n",
      "                              Parameter(θ[4]): -0.09898809048063813,\n",
      "                              Parameter(θ[6]): -1.776844546945385e-05,\n",
      "                              Parameter(θ[0]): 0.0708618745883433},\n",
      "    'optimal_point': array([ 7.08618746e-02, -5.74935321e-06,  7.08776641e-02, -5.61815917e-05,\n",
      "       -9.89880905e-02,  5.10397595e-05, -1.77684455e-05, -9.90855758e-02]),\n",
      "    'optimal_value': -2.8687196198028415,\n",
      "    'optimizer_evals': 141,\n",
      "    'optimizer_time': 6.77024879999999}\n"
     ]
    }
   ],
   "source": [
    "pp = pprint.PrettyPrinter(indent=4)\n",
    "pp.pprint(best_result)"
   ]
  },
  {
   "cell_type": "markdown",
   "id": "directed-upset",
   "metadata": {},
   "source": [
    "This is the hamiltonian of H3+, qubit mapped and simplified."
   ]
  },
  {
   "cell_type": "code",
   "execution_count": 7,
   "id": "likely-suffering",
   "metadata": {},
   "outputs": [
    {
     "name": "stdout",
     "output_type": "stream",
     "text": [
      "('IIIIII\\t(-1.8908946110249365+0j)\\n'\n",
      " 'IIIIIZ\\t(0.19349382990321673+0j)\\n'\n",
      " 'IIIIYY\\t(-0.009394237621759498+0j)\\n'\n",
      " 'IIIIXX\\t(-0.009394237621759498+0j)\\n'\n",
      " 'IIIIZI\\t(-0.08755065787105569+0j)\\n'\n",
      " 'IIIZII\\t(-0.08786432107997949+0j)\\n'\n",
      " 'IIZIII\\t(0.19349382990321667+0j)\\n'\n",
      " 'IYYIII\\t(-0.009394237621759496+0j)\\n'\n",
      " 'IXXIII\\t(-0.009394237621759496+0j)\\n'\n",
      " 'IZIIII\\t(-0.08755065787105569+0j)\\n'\n",
      " 'ZIIIII\\t(-0.08786432107997948+0j)\\n'\n",
      " 'IIIIZZ\\t(0.10110563235490364+0j)\\n'\n",
      " 'IIIZIZ\\t(0.10110489952143713+0j)\\n'\n",
      " 'IIIZYY\\t(-2.194841959860666e-05+0j)\\n'\n",
      " 'IIIZXX\\t(-2.194841959860666e-05+0j)\\n'\n",
      " 'IIZIIZ\\t(0.14087037255619309+0j)\\n'\n",
      " 'IIZIYY\\t(0.0022725090147004403+0j)\\n'\n",
      " 'IIZIXX\\t(0.0022725090147004403+0j)\\n'\n",
      " 'IIZYZY\\t(7.62212768512624e-05+0j)\\n'\n",
      " 'IIZXZX\\t(7.62212768512624e-05+0j)\\n'\n",
      " 'IXXIIZ\\t(0.0022725090147004408+0j)\\n'\n",
      " 'IYYIIZ\\t(0.0022725090147004408+0j)\\n'\n",
      " 'IXXIYY\\t(0.035495132738992144+0j)\\n'\n",
      " 'IYYIYY\\t(0.035495132738992144+0j)\\n'\n",
      " 'IXXIXX\\t(0.035495132738992144+0j)\\n'\n",
      " 'IYYIXX\\t(0.035495132738992144+0j)\\n'\n",
      " 'IXXYZY\\t(0.0015210404844818988+0j)\\n'\n",
      " 'IYYYZY\\t(0.0015210404844818988+0j)\\n'\n",
      " 'IXXXZX\\t(0.0015210404844818988+0j)\\n'\n",
      " 'IYYXZX\\t(0.0015210404844818988+0j)\\n'\n",
      " 'XZXIIZ\\t(7.62212768512624e-05+0j)\\n'\n",
      " 'YZYIIZ\\t(7.62212768512624e-05+0j)\\n'\n",
      " 'XZXIYY\\t(0.0015210404844818988+0j)\\n'\n",
      " 'YZYIYY\\t(0.0015210404844818988+0j)\\n'\n",
      " 'XZXIXX\\t(0.0015210404844818988+0j)\\n'\n",
      " 'YZYIXX\\t(0.0015210404844818988+0j)\\n'\n",
      " 'XZXYZY\\t(0.036944496491541995+0j)\\n'\n",
      " 'YZYYZY\\t(0.036944496491541995+0j)\\n'\n",
      " 'XZXXZX\\t(0.036944496491541995+0j)\\n'\n",
      " 'YZYXZX\\t(0.036944496491541995+0j)\\n'\n",
      " 'IZIIIZ\\t(0.13660076509389577+0j)\\n'\n",
      " 'IZIIYY\\t(-0.011640960836274809+0j)\\n'\n",
      " 'IZIIXX\\t(-0.011640960836274809+0j)\\n'\n",
      " 'IZIYZY\\t(0.022739530055543182+0j)\\n'\n",
      " 'IZIXZX\\t(0.022739530055543182+0j)\\n'\n",
      " 'XXIIIZ\\t(-0.0015210404844819149+0j)\\n'\n",
      " 'YYIIIZ\\t(-0.0015210404844819149+0j)\\n'\n",
      " 'XXIIYY\\t(-0.0227395300555432+0j)\\n'\n",
      " 'YYIIYY\\t(-0.0227395300555432+0j)\\n'\n",
      " 'XXIIXX\\t(-0.0227395300555432+0j)\\n'\n",
      " 'YYIIXX\\t(-0.0227395300555432+0j)\\n'\n",
      " 'XXIYZY\\t(-0.009438134460956947+0j)\\n'\n",
      " 'YYIYZY\\t(-0.009438134460956947+0j)\\n'\n",
      " 'XXIXZX\\t(-0.009438134460956947+0j)\\n'\n",
      " 'YYIXZX\\t(-0.009438134460956947+0j)\\n'\n",
      " 'ZIIIIZ\\t(0.1380493960129791+0j)\\n'\n",
      " 'ZIIIYY\\t(0.00941618604135834+0j)\\n'\n",
      " 'ZIIIXX\\t(0.00941618604135834+0j)\\n'\n",
      " 'ZIIYZY\\t(-0.022815751332394472+0j)\\n'\n",
      " 'ZIIXZX\\t(-0.022815751332394472+0j)\\n'\n",
      " 'IIIZZI\\t(0.10044827547253526+0j)\\n'\n",
      " 'IIZIZI\\t(0.13660076509389577+0j)\\n'\n",
      " 'IIZYYI\\t(-0.001521040484481915+0j)\\n'\n",
      " 'IIZXXI\\t(-0.001521040484481915+0j)\\n'\n",
      " 'IXXIZI\\t(-0.011640960836274809+0j)\\n'\n",
      " 'IYYIZI\\t(-0.011640960836274809+0j)\\n'\n",
      " 'IXXYYI\\t(-0.0227395300555432+0j)\\n'\n",
      " 'IYYYYI\\t(-0.0227395300555432+0j)\\n'\n",
      " 'IXXXXI\\t(-0.0227395300555432+0j)\\n'\n",
      " 'IYYXXI\\t(-0.0227395300555432+0j)\\n'\n",
      " 'XZXIZI\\t(0.022739530055543185+0j)\\n'\n",
      " 'YZYIZI\\t(0.022739530055543185+0j)\\n'\n",
      " 'XZXYYI\\t(-0.009438134460956947+0j)\\n'\n",
      " 'YZYYYI\\t(-0.009438134460956947+0j)\\n'\n",
      " 'XZXXXI\\t(-0.009438134460956947+0j)\\n'\n",
      " 'YZYXXI\\t(-0.009438134460956947+0j)\\n'\n",
      " 'IZIIZI\\t(0.16088544421935538+0j)\\n'\n",
      " 'IZIYYI\\t(0.002282833198808855+0j)\\n'\n",
      " 'IZIXXI\\t(0.002282833198808855+0j)\\n'\n",
      " 'XXIIZI\\t(0.002282833198808855+0j)\\n'\n",
      " 'YYIIZI\\t(0.002282833198808855+0j)\\n'\n",
      " 'XXIYYI\\t(0.019014098697675393+0j)\\n'\n",
      " 'YYIYYI\\t(0.019014098697675393+0j)\\n'\n",
      " 'XXIXXI\\t(0.019014098697675393+0j)\\n'\n",
      " 'YYIXXI\\t(0.019014098697675393+0j)\\n'\n",
      " 'ZIIIZI\\t(0.11946237417021066+0j)\\n'\n",
      " 'ZIIYYI\\t(-0.0007617927143269734+0j)\\n'\n",
      " 'ZIIXXI\\t(-0.0007617927143269734+0j)\\n'\n",
      " 'IIZZII\\t(0.1380493960129791+0j)\\n'\n",
      " 'IXXZII\\t(0.00941618604135834+0j)\\n'\n",
      " 'IYYZII\\t(0.00941618604135834+0j)\\n'\n",
      " 'XZXZII\\t(-0.022815751332394472+0j)\\n'\n",
      " 'YZYZII\\t(-0.022815751332394472+0j)\\n'\n",
      " 'IZIZII\\t(0.11946237417021066+0j)\\n'\n",
      " 'XXIZII\\t(-0.0007617927143269733+0j)\\n'\n",
      " 'YYIZII\\t(-0.0007617927143269733+0j)\\n'\n",
      " 'ZIIZII\\t(0.15943840709310106+0j)\\n'\n",
      " 'IZZIII\\t(0.10110563235490364+0j)\\n'\n",
      " 'ZIZIII\\t(0.10110489952143713+0j)\\n'\n",
      " 'ZYYIII\\t(-2.194841959860666e-05+0j)\\n'\n",
      " 'ZXXIII\\t(-2.194841959860666e-05+0j)\\n'\n",
      " 'ZZIIII\\t(0.10044827547253526+0j)\\n')\n"
     ]
    }
   ],
   "source": [
    "pp.pprint(ferOp.mapping(qubit_mapping).simplify().print_details())"
   ]
  },
  {
   "cell_type": "markdown",
   "id": "independent-tribune",
   "metadata": {},
   "source": [
    "UCCSD variational form just consider some (the ones that conserve number of particles and spin) single and double excitations:"
   ]
  },
  {
   "cell_type": "code",
   "execution_count": 8,
   "id": "cosmetic-routine",
   "metadata": {},
   "outputs": [
    {
     "name": "stdout",
     "output_type": "stream",
     "text": [
      "[[0, 1], [0, 2], [3, 4], [3, 5]]\n",
      "[[0, 1, 3, 4], [0, 1, 3, 5], [0, 2, 3, 4], [0, 2, 3, 5]]\n"
     ]
    }
   ],
   "source": [
    "print(var_form.single_excitations)\n",
    "print(var_form.double_excitations)"
   ]
  },
  {
   "cell_type": "code",
   "execution_count": null,
   "id": "handled-closure",
   "metadata": {},
   "outputs": [],
   "source": []
  },
  {
   "cell_type": "code",
   "execution_count": null,
   "id": "configured-scientist",
   "metadata": {},
   "outputs": [],
   "source": []
  }
 ],
 "metadata": {
  "kernelspec": {
   "display_name": "Python 3",
   "language": "python",
   "name": "python3"
  },
  "language_info": {
   "codemirror_mode": {
    "name": "ipython",
    "version": 3
   },
   "file_extension": ".py",
   "mimetype": "text/x-python",
   "name": "python",
   "nbconvert_exporter": "python",
   "pygments_lexer": "ipython3",
   "version": "3.8.5"
  }
 },
 "nbformat": 4,
 "nbformat_minor": 5
}
