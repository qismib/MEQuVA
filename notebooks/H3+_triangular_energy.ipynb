{
 "cells": [
  {
   "cell_type": "code",
   "execution_count": 20,
   "id": "forward-manchester",
   "metadata": {},
   "outputs": [],
   "source": [
    "import warnings\n",
    "warnings.filterwarnings(\"ignore\")\n",
    "\n",
    "import matplotlib.pyplot as plt\n",
    "import numpy as np\n",
    "import pprint\n",
    "\n",
    "from qiskit import Aer\n",
    "from qiskit import QuantumCircuit\n",
    "from qiskit.aqua import QuantumInstance\n",
    "from qiskit.aqua.algorithms import NumPyMinimumEigensolver, VQE\n",
    "from qiskit.aqua.components.optimizers import SLSQP, COBYLA, CG\n",
    "from qiskit.chemistry import QiskitChemistryError\n",
    "from qiskit.chemistry.applications import MolecularGroundStateEnergy\n",
    "from qiskit.chemistry.algorithms import ground_state_solvers\n",
    "from qiskit.chemistry.components.initial_states import HartreeFock\n",
    "from qiskit.chemistry.components.variational_forms import UCCSD\n",
    "from qiskit.chemistry.core import QubitMappingType\n",
    "from qiskit.chemistry import FermionicOperator\n",
    "from qiskit.chemistry.drivers import PySCFDriver, UnitsType, HFMethodType"
   ]
  },
  {
   "cell_type": "code",
   "execution_count": 11,
   "id": "matched-pledge",
   "metadata": {},
   "outputs": [],
   "source": [
    "global qubit_mapping\n",
    "qubit_mapping = 'jordan_wigner'\n",
    "global two_qubit_reduction\n",
    "two_qubit_reduction = False\n",
    "global best_result\n",
    "global hfmethod\n",
    "hfmethod = HFMethodType.ROHF\n",
    "global var_form\n",
    "global vqe\n",
    "global ferOp\n",
    "global shift"
   ]
  },
  {
   "cell_type": "code",
   "execution_count": 32,
   "id": "adjusted-anatomy",
   "metadata": {},
   "outputs": [
    {
     "name": "stdout",
     "output_type": "stream",
     "text": [
      "Interatomic Distance: 0.3 \t VQE result:  0.7930255343076515\n",
      "Interatomic Distance: 0.4 \t VQE result:  -0.23748110983057558\n",
      "Interatomic Distance: 0.5 \t VQE result:  -0.7527798382267448\n",
      "Interatomic Distance: 0.6 \t VQE result:  -1.0251054087899347\n",
      "Interatomic Distance: 0.7 \t VQE result:  -1.169942571290731\n",
      "Interatomic Distance: 0.8 \t VQE result:  -1.2433086131598732\n",
      "Interatomic Distance: 0.9 \t VQE result:  -1.2748265298186463\n",
      "Interatomic Distance: 1.0 \t VQE result:  -1.281187551306354\n",
      "Interatomic Distance: 1.1 \t VQE result:  -1.272264503330409\n",
      "Interatomic Distance: 1.2 \t VQE result:  -1.2572628488744848\n",
      "Interatomic Distance: 1.3 \t VQE result:  -1.248531587953889\n",
      "Interatomic Distance: 1.4 \t VQE result:  -1.2370557052088396\n",
      "Interatomic Distance: 1.5 \t VQE result:  -1.2246482489422787\n",
      "Interatomic Distance: 1.6 \t VQE result:  -1.2123782569775732\n",
      "Interatomic Distance: 1.7 \t VQE result:  -1.2008606606256933\n",
      "Interatomic Distance: 1.8 \t VQE result:  -1.1904922234542925\n",
      "Interatomic Distance: 1.9 \t VQE result:  -1.1814244645929262\n",
      "Interatomic Distance: 2.0 \t VQE result:  -1.1737286170022363\n",
      "Interatomic Distance: 2.1 \t VQE result:  -1.1673636657692636\n",
      "Interatomic Distance: 2.2 \t VQE result:  -1.1622430467243008\n",
      "Interatomic Distance: 2.3 \t VQE result:  -1.1582159005892751\n",
      "Interatomic Distance: 2.4 \t VQE result:  -1.1551063134526625\n",
      "Interatomic Distance: 2.5 \t VQE result:  -1.152763142682118\n",
      "Interatomic Distance: 2.6 \t VQE result:  -1.1510260186871943\n",
      "Interatomic Distance: 2.7 \t VQE result:  -1.1497435542897674\n",
      "Interatomic Distance: 2.8 \t VQE result:  -1.1488085013183174\n",
      "Interatomic Distance: 2.9 \t VQE result:  -1.1481272678051764\n",
      "Interatomic Distance: 3.0 \t VQE result:  -1.1476335282207875\n",
      "Interatomic Distance: 3.1 \t VQE result:  -1.1472739879241447\n",
      "Interatomic Distance: 3.2 \t VQE result:  -1.1470092039849198\n",
      "Interatomic Distance: 3.3 \t VQE result:  -1.1468032801795829\n",
      "Interatomic Distance: 3.4 \t VQE result:  -1.146667983021258\n",
      "Interatomic Distance: 3.5 \t VQE result:  -1.1465600851155497\n",
      "Interatomic Distance: 3.6 \t VQE result:  -1.1464754433244373\n",
      "Interatomic Distance: 3.7 \t VQE result:  -1.146407064201071\n",
      "Interatomic Distance: 3.8 \t VQE result:  -1.1463431179560373\n",
      "Interatomic Distance: 3.9 \t VQE result:  -1.1463011594110029\n"
     ]
    }
   ],
   "source": [
    "backend = Aer.get_backend(\"statevector_simulator\")\n",
    "\n",
    "optimizer = COBYLA(maxiter=100)\n",
    "distances = np.arange(0.3, 4, .1)\n",
    "vqe_energies = []\n",
    "min = 100.0\n",
    "dismin = 0.0\n",
    "\n",
    "for dist in distances:\n",
    "    charge = 1\n",
    "    spin = 0\n",
    "    if dist <= 1.2:\n",
    "        alt=np.sqrt(dist**2 - (dist/2)**2)\n",
    "        mol = \"H .0 .0 .0; H .0 .0 \" + str(dist) + \"; H .0 \" + str(alt) + \" \" + str(dist/2)\n",
    "    else:\n",
    "        alt=np.sqrt(dist**2 - (0.6)**2)\n",
    "        mol = \"H .0 .0 .0; H .0 .0 0.742; H .0 \" + str(alt) + \" 0.371\"\n",
    "    driver = PySCFDriver(atom = mol,\n",
    "                         unit=UnitsType.ANGSTROM, spin = spin,\n",
    "                         charge=charge, basis='sto-6g',hf_method=hfmethod)\n",
    "    \n",
    "    molecule = driver.run()\n",
    "    \n",
    "    shift = molecule.nuclear_repulsion_energy\n",
    "    num_particles = molecule.num_alpha + molecule.num_beta\n",
    "    num_orbitals = molecule.num_orbitals\n",
    "    num_spin_orbitals = num_orbitals*2\n",
    "    \n",
    "    \n",
    "    ferOp = FermionicOperator(h1=molecule.one_body_integrals, h2=molecule.two_body_integrals)\n",
    "    \n",
    "    qubitOp = ferOp.mapping(map_type=qubit_mapping)\n",
    "        \n",
    "    initial_state = HartreeFock(num_spin_orbitals, \n",
    "                                num_particles, \n",
    "                                qubit_mapping,\n",
    "                                two_qubit_reduction)\n",
    "    \n",
    "    var_form = UCCSD(num_orbitals=num_spin_orbitals,\n",
    "                        num_particles=num_particles,\n",
    "                        initial_state=initial_state,\n",
    "                        qubit_mapping=qubit_mapping,\n",
    "                        two_qubit_reduction=two_qubit_reduction)\n",
    "    \n",
    "    init_parm = np.zeros(var_form.num_parameters)\n",
    "    vqe = VQE(qubitOp, var_form, optimizer, initial_point=init_parm)\n",
    "    vqe_result_tot = vqe.run(backend)\n",
    "    vqe_result = np.real(vqe_result_tot['eigenvalue'] + shift)\n",
    "    vqe_energies.append(vqe_result)\n",
    "    '''\n",
    "    print(\"Interatomic Distance:\", np.round(dist, 2), \n",
    "          \"\\n\\tVQE calculation: \",np.real(vqe_result_tot['eigenvalue']),\n",
    "          \"\\n\\tNuclear shift: \", shift,                     \n",
    "          \"\\n\\tVQE Result: \", vqe_result)\n",
    "    '''\n",
    "    print(\"Interatomic Distance:\", np.round(dist, 2),\"\\t VQE result: \", vqe_result)\n",
    "    if vqe_result < min:\n",
    "        min = vqe_result\n",
    "        dismin = dist\n",
    "        best_result = vqe_result_tot"
   ]
  },
  {
   "cell_type": "markdown",
   "id": "international-triangle",
   "metadata": {},
   "source": [
    "I plot all the calculated energies. It's clearly visible an absolute minimum"
   ]
  },
  {
   "cell_type": "code",
   "execution_count": 31,
   "id": "piano-transcription",
   "metadata": {},
   "outputs": [
    {
     "data": {
      "image/png": "[encoded data removed]",
      "text/plain": [
       "<Figure size 432x288 with 1 Axes>"
      ]
     },
     "metadata": {
      "needs_background": "light"
     },
     "output_type": "display_data"
    }
   ],
   "source": [
    "plt.plot(distances, vqe_energies, label=\"VQE Energy\")\n",
    "plt.xlabel('Atomic distance (Angstrom)')\n",
    "plt.ylabel('Energy')\n",
    "plt.legend()\n",
    "plt.ylim([-1.3, -1.10])\n",
    "plt.show()"
   ]
  },
  {
   "cell_type": "markdown",
   "id": "pediatric-radical",
   "metadata": {},
   "source": [
    "### More VQE information\n",
    "\n",
    "Printing all informations, parameter values, eigenalues (ecc. ecc.) for the best iteration of the VQE algorithm (bond length). "
   ]
  },
  {
   "cell_type": "code",
   "execution_count": 33,
   "id": "efficient-behalf",
   "metadata": {},
   "outputs": [
    {
     "name": "stdout",
     "output_type": "stream",
     "text": [
      "{   'cost_function_evals': 100,\n",
      "    'eigenstate': array([-2.47072544e-17-2.50503678e-17j, -5.13587650e-16+1.04762132e-15j,\n",
      "        9.74250767e-17+5.84305589e-18j,  6.75299668e-17-8.71818926e-17j,\n",
      "        7.42656242e-17-3.18796931e-17j,  1.34184990e-16+4.71483953e-17j,\n",
      "        6.35855735e-17-1.03800576e-16j,  2.00134432e-17+3.05985502e-17j,\n",
      "       -2.64290994e-16+9.36105182e-16j,  9.90361790e-01-7.75315393e-15j,\n",
      "       -2.12957491e-04-1.54045816e-16j,  4.70628360e-16+6.17301404e-16j,\n",
      "        3.50948029e-04+2.04718185e-16j,  3.51860912e-16+6.17390369e-16j,\n",
      "       -4.88322697e-17+1.04572445e-16j,  6.09134065e-17-7.97906743e-17j,\n",
      "        1.81634892e-17-6.17090616e-17j,  5.72932921e-04+9.77725394e-17j,\n",
      "       -9.80310810e-02+5.14093087e-16j, -2.53132680e-17-1.33344399e-16j,\n",
      "       -4.54211857e-05-3.45382068e-17j,  3.28055215e-17-7.87451973e-18j,\n",
      "       -4.20754521e-17-6.06443049e-17j, -7.40850207e-17-8.26667500e-19j,\n",
      "        4.17064836e-17-3.57640637e-17j,  4.76012098e-16+5.59087371e-16j,\n",
      "        3.01235956e-17-8.57522104e-17j, -2.58614604e-17+4.00449002e-17j,\n",
      "       -9.10480620e-17-6.31657806e-18j, -6.24505177e-17-7.45740225e-17j,\n",
      "        4.80280598e-17-1.06787499e-16j,  2.00270775e-17+7.64361592e-17j,\n",
      "        7.28882335e-17-3.28066093e-17j, -5.49936753e-04+8.60731397e-17j,\n",
      "       -3.29910118e-05+8.09818880e-17j, -6.51065588e-17-2.09801968e-17j,\n",
      "       -9.78398196e-02+7.37717626e-16j,  7.27562550e-17-8.60577928e-18j,\n",
      "        7.55661082e-17+5.22687670e-17j, -8.43763234e-19-7.00680850e-17j,\n",
      "       -5.36531448e-17+6.50550108e-17j,  5.56130850e-16+6.97826715e-16j,\n",
      "       -3.74909588e-17-2.05373117e-17j,  6.41120850e-17-7.36627553e-18j,\n",
      "       -8.20252769e-17-7.03303312e-17j,  7.43018768e-17-1.76226878e-16j,\n",
      "       -6.23683034e-17+6.06835340e-17j, -4.44180257e-17+2.05731460e-17j,\n",
      "       -4.18685981e-17+2.01422572e-17j,  1.38742987e-18+5.84408097e-17j,\n",
      "       -7.42244612e-17-2.00737533e-17j, -2.79117910e-17-1.83484555e-17j,\n",
      "       -4.29854800e-18-1.67520656e-17j,  4.88399165e-17+2.42437266e-17j,\n",
      "       -2.95066692e-17-9.02231437e-18j,  3.54491243e-17+2.43971044e-17j,\n",
      "        6.00501111e-18-2.54574848e-17j,  9.14245780e-17-1.47471325e-17j,\n",
      "        1.77673998e-17+4.77304283e-17j, -2.83358819e-17+4.56502161e-18j,\n",
      "        1.40674381e-17+6.00084100e-19j, -2.68397191e-17+1.85440755e-17j,\n",
      "        1.03572754e-17+4.85406802e-17j, -1.03157238e-17-1.52426623e-18j]),\n",
      "    'eigenvalue': (-2.8687191840663537+0j),\n",
      "    'optimal_parameters': {   Parameter(θ[0]): -0.00021295755996576243,\n",
      "                              Parameter(θ[5]): -3.3268380385325486e-05,\n",
      "                              Parameter(θ[6]): -4.5843083873918906e-05,\n",
      "                              Parameter(θ[4]): -0.09818869591928431,\n",
      "                              Parameter(θ[3]): -0.000549936917128065,\n",
      "                              Parameter(θ[7]): -0.09847227416825113,\n",
      "                              Parameter(θ[1]): 0.0003509481551752377,\n",
      "                              Parameter(θ[2]): 0.0005729330002702947},\n",
      "    'optimal_point': array([-2.12957560e-04,  3.50948155e-04,  5.72933000e-04, -5.49936917e-04,\n",
      "       -9.81886959e-02, -3.32683804e-05, -4.58430839e-05, -9.84722742e-02]),\n",
      "    'optimal_value': -2.8687191840663537,\n",
      "    'optimizer_evals': 100,\n",
      "    'optimizer_time': 7.157711599997128}\n"
     ]
    }
   ],
   "source": [
    "pp = pprint.PrettyPrinter(indent=4)\n",
    "pp.pprint(best_result)"
   ]
  },
  {
   "cell_type": "markdown",
   "id": "automatic-chinese",
   "metadata": {},
   "source": [
    "H3+ hamiltonian, qubit mapped and simplified."
   ]
  },
  {
   "cell_type": "code",
   "execution_count": 34,
   "id": "likely-suffering",
   "metadata": {},
   "outputs": [
    {
     "name": "stdout",
     "output_type": "stream",
     "text": [
      "('IIIIII\\t(-1.3710914596000712+0j)\\n'\n",
      " 'IIIIIZ\\t(0.1729921938896205+0j)\\n'\n",
      " 'IIIIYY\\t(0.0008990120420158368+0j)\\n'\n",
      " 'IIIIXX\\t(0.0008990120420158368+0j)\\n'\n",
      " 'IIIIZI\\t(0.04214794823912783+0j)\\n'\n",
      " 'IIIZII\\t(-0.2210365842753662+0j)\\n'\n",
      " 'IIZIII\\t(0.1729921938896204+0j)\\n'\n",
      " 'IYYIII\\t(0.0008990120420158353+0j)\\n'\n",
      " 'IXXIII\\t(0.0008990120420158353+0j)\\n'\n",
      " 'IZIIII\\t(0.04214794823912789+0j)\\n'\n",
      " 'ZIIIII\\t(-0.22103658427536618+0j)\\n'\n",
      " 'IIIIZZ\\t(0.034221120216452454+0j)\\n'\n",
      " 'IIIZIZ\\t(0.12058531852223081+0j)\\n'\n",
      " 'IIIZYY\\t(0.0013731770918290144+0j)\\n'\n",
      " 'IIIZXX\\t(0.0013731770918290144+0j)\\n'\n",
      " 'IIZIIZ\\t(0.1685123267806977+0j)\\n'\n",
      " 'IIZIYY\\t(0.0021623381850934026+0j)\\n'\n",
      " 'IIZIXX\\t(0.0021623381850934026+0j)\\n'\n",
      " 'IXXIIZ\\t(0.0021623381850934026+0j)\\n'\n",
      " 'IYYIIZ\\t(0.0021623381850934026+0j)\\n'\n",
      " 'IXXIYY\\t(6.706703281803655e-05+0j)\\n'\n",
      " 'IYYIYY\\t(6.706703281803655e-05+0j)\\n'\n",
      " 'IXXIXX\\t(6.706703281803655e-05+0j)\\n'\n",
      " 'IYYIXX\\t(6.706703281803655e-05+0j)\\n'\n",
      " 'XZXYZY\\t(0.04539056492862682+0j)\\n'\n",
      " 'YZYYZY\\t(0.04539056492862682+0j)\\n'\n",
      " 'XZXXZX\\t(0.04539056492862682+0j)\\n'\n",
      " 'YZYXZX\\t(0.04539056492862682+0j)\\n'\n",
      " 'IZIIIZ\\t(0.03428818724927049+0j)\\n'\n",
      " 'IZIIYY\\t(-0.002239585728570023+0j)\\n'\n",
      " 'IZIIXX\\t(-0.002239585728570023+0j)\\n'\n",
      " 'XXIYZY\\t(-0.000756586932944474+0j)\\n'\n",
      " 'YYIYZY\\t(-0.000756586932944474+0j)\\n'\n",
      " 'XXIXZX\\t(-0.000756586932944474+0j)\\n'\n",
      " 'YYIXZX\\t(-0.000756586932944474+0j)\\n'\n",
      " 'ZIIIIZ\\t(0.16597588345085762+0j)\\n'\n",
      " 'ZIIIYY\\t(0.0021297640247734885+0j)\\n'\n",
      " 'ZIIIXX\\t(0.0021297640247734885+0j)\\n'\n",
      " 'IIIZZI\\t(0.03395030168571436+0j)\\n'\n",
      " 'IIZIZI\\t(0.03428818724927049+0j)\\n'\n",
      " 'IXXIZI\\t(-0.0022395857285700234+0j)\\n'\n",
      " 'IYYIZI\\t(-0.0022395857285700234+0j)\\n'\n",
      " 'XZXYYI\\t(-0.000756586932944474+0j)\\n'\n",
      " 'YZYYYI\\t(-0.000756586932944474+0j)\\n'\n",
      " 'XZXXXI\\t(-0.000756586932944474+0j)\\n'\n",
      " 'YZYXXI\\t(-0.000756586932944474+0j)\\n'\n",
      " 'IZIIZI\\t(0.19369039692059076+0j)\\n'\n",
      " 'XXIYYI\\t(1.2703232408931106e-05+0j)\\n'\n",
      " 'YYIYYI\\t(1.2703232408931106e-05+0j)\\n'\n",
      " 'XXIXXI\\t(1.2703232408931106e-05+0j)\\n'\n",
      " 'YYIXXI\\t(1.2703232408931106e-05+0j)\\n'\n",
      " 'ZIIIZI\\t(0.03396300491812329+0j)\\n'\n",
      " 'IIZZII\\t(0.16597588345085762+0j)\\n'\n",
      " 'IXXZII\\t(0.0021297640247734885+0j)\\n'\n",
      " 'IYYZII\\t(0.0021297640247734885+0j)\\n'\n",
      " 'IZIZII\\t(0.03396300491812329+0j)\\n'\n",
      " 'ZIIZII\\t(0.17471398810672106+0j)\\n'\n",
      " 'IZZIII\\t(0.034221120216452454+0j)\\n'\n",
      " 'ZIZIII\\t(0.12058531852223081+0j)\\n'\n",
      " 'ZYYIII\\t(0.0013731770918290144+0j)\\n'\n",
      " 'ZXXIII\\t(0.0013731770918290144+0j)\\n'\n",
      " 'ZZIIII\\t(0.03395030168571436+0j)\\n')\n"
     ]
    }
   ],
   "source": [
    "pp.pprint(ferOp.mapping(qubit_mapping).simplify().print_details())"
   ]
  },
  {
   "cell_type": "markdown",
   "id": "municipal-craft",
   "metadata": {},
   "source": [
    "UCCSD variational form just considers these single and double excitations (spin and number of particles conservation):"
   ]
  },
  {
   "cell_type": "code",
   "execution_count": 35,
   "id": "cosmetic-routine",
   "metadata": {},
   "outputs": [
    {
     "name": "stdout",
     "output_type": "stream",
     "text": [
      "[[0, 1], [0, 2], [3, 4], [3, 5]]\n",
      "[[0, 1, 3, 4], [0, 1, 3, 5], [0, 2, 3, 4], [0, 2, 3, 5]]\n"
     ]
    }
   ],
   "source": [
    "print(var_form.single_excitations)\n",
    "print(var_form.double_excitations)"
   ]
  },
  {
   "cell_type": "markdown",
   "id": "difficult-lighting",
   "metadata": {},
   "source": [
    "## Exact solution"
   ]
  },
  {
   "cell_type": "code",
   "execution_count": 77,
   "id": "saved-database",
   "metadata": {},
   "outputs": [
    {
     "name": "stdout",
     "output_type": "stream",
     "text": [
      "=== GROUND STATE ENERGY ===\n",
      " \n",
      "* Electronic ground state energy (Hartree): -2.964867626005\n",
      "  - computed part:      -2.964867626005\n",
      "  - frozen energy part: 0.0\n",
      "  - particle hole part: 0.0\n",
      "~ Nuclear repulsion energy (Hartree): 1.58753163276\n",
      "> Total ground state energy (Hartree): -1.377335993245\n",
      "  Measured:: Num particles: 3.000, S: 0.500, M: -0.19173\n",
      " \n",
      "=== EXCITED STATES ===\n",
      " \n",
      "> Excited states energies (plus ground): [-1.377335993245, -1.377335993245, -1.377335993245, -1.377335993245, -1.281187999425, -0.988743597084]\n",
      "    - computed: [-2.964867626005, -2.964867626005, -2.964867626005, -2.964867626005, -2.868719632185, -2.576275229844]\n",
      "  ......................................................................\n",
      "  ###:  Total Energy,      Computed,       # particles,   S         M\n",
      "    0:  -1.377335993245,  -2.964867626005,     3.000,   0.500,  -0.19173\n",
      "    1:  -1.377335993245,  -2.964867626005,     3.000,   0.500,   0.09464\n",
      "    2:  -1.377335993245,  -2.964867626005,     3.000,   0.500,   0.06458\n",
      "    3:  -1.377335993245,  -2.964867626005,     3.000,   0.500,   0.03567\n",
      "    4:  -1.281187999425,  -2.868719632185,     2.000,   0.000,   0.00000\n",
      "    5:  -0.988743597084,  -2.576275229844,     3.000,   1.500,  -0.04756\n",
      " \n",
      "=== DIPOLE MOMENT ===\n",
      " \n",
      "* Electronic dipole moment (a.u.): [0.0  1.56437578  2.62607067]\n",
      "  - computed part:      [0.0  1.56437578  2.62607067]\n",
      "  - frozen energy part: [0.0  0.0  0.0]\n",
      "  - particle hole part: [0.0  0.0  0.0]\n",
      "~ Nuclear dipole moment (a.u.): [0.0  1.63655083  2.83458919]\n",
      "> Dipole moment (a.u.): [0.0  0.07217505  0.20851852]  Total: 0.22065632\n",
      "               (debye): [0.0  0.18345065  0.53000117]  Total: 0.56085237\n"
     ]
    }
   ],
   "source": [
    "from qiskit.aqua.algorithms import NumPyEigensolver\n",
    "from qiskit.chemistry.core import Hamiltonian\n",
    "from qiskit.chemistry.core import QubitMappingType, TransformationType\n",
    "from qiskit.chemistry.drivers import PySCFDriver, UnitsType\n",
    "\n",
    "basis_string = 'sto-6g'\n",
    "dist = 1\n",
    "alt=np.sqrt(dist**2 - (dist/2)**2)\n",
    "molecule_string = \"H .0 .0 .0; H .0 .0 \" + str(dist) + \"; H .0 \" + str(alt) + \" \" + str(dist/2)\n",
    "charge = 1\n",
    "\n",
    "driver = PySCFDriver(atom=molecule_string, charge=charge, unit=UnitsType.ANGSTROM, basis=basis_string)\n",
    "molecule = driver.run()\n",
    "\n",
    "core = Hamiltonian(transformation=TransformationType.FULL, qubit_mapping=QubitMappingType.JORDAN_WIGNER, \n",
    "                   two_qubit_reduction=False, freeze_core=False)\n",
    "\n",
    "qubit_op, aux_ops = core.run(molecule)\n",
    "\n",
    "algo = NumPyEigensolver(qubit_op, k=6, aux_operators=aux_ops)\n",
    "res = algo.run()\n",
    "\n",
    "lines, result = core.process_algorithm_result(res)\n",
    "print(*lines, sep='\\n')"
   ]
  },
  {
   "cell_type": "code",
   "execution_count": null,
   "id": "activated-dubai",
   "metadata": {},
   "outputs": [],
   "source": []
  }
 ],
 "metadata": {
  "kernelspec": {
   "display_name": "Python 3",
   "language": "python",
   "name": "python3"
  },
  "language_info": {
   "codemirror_mode": {
    "name": "ipython",
    "version": 3
   },
   "file_extension": ".py",
   "mimetype": "text/x-python",
   "name": "python",
   "nbconvert_exporter": "python",
   "pygments_lexer": "ipython3",
   "version": "3.8.5"
  }
 },
 "nbformat": 4,
 "nbformat_minor": 5
}
