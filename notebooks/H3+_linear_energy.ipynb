{
 "cells": [
  {
   "cell_type": "code",
   "execution_count": 4,
   "id": "portuguese-papua",
   "metadata": {},
   "outputs": [],
   "source": [
    "import warnings\n",
    "warnings.filterwarnings(\"ignore\")\n",
    "\n",
    "import matplotlib.pyplot as plt\n",
    "import numpy as np\n",
    "import pprint\n",
    "\n",
    "from qiskit import Aer\n",
    "from qiskit import QuantumCircuit\n",
    "from qiskit.aqua import QuantumInstance\n",
    "from qiskit.aqua.algorithms import NumPyMinimumEigensolver, VQE\n",
    "from qiskit.aqua.components.optimizers import SLSQP, COBYLA, CG\n",
    "from qiskit.chemistry import QiskitChemistryError\n",
    "from qiskit.chemistry.applications import MolecularGroundStateEnergy\n",
    "from qiskit.chemistry.algorithms import ground_state_solvers\n",
    "from qiskit.chemistry.components.initial_states import HartreeFock\n",
    "from qiskit.chemistry.components.variational_forms import UCCSD\n",
    "from qiskit.chemistry.core import QubitMappingType\n",
    "from qiskit.chemistry import FermionicOperator\n",
    "from qiskit.chemistry.drivers import PySCFDriver, UnitsType, HFMethodType"
   ]
  },
  {
   "cell_type": "code",
   "execution_count": 5,
   "id": "graphic-unemployment",
   "metadata": {},
   "outputs": [],
   "source": [
    "global qubit_mapping\n",
    "qubit_mapping = 'jordan_wigner'\n",
    "global two_qubit_reduction\n",
    "two_qubit_reduction = False\n",
    "global best_result\n",
    "global hfmethod\n",
    "hfmethod = HFMethodType.ROHF\n",
    "global var_form\n",
    "global vqe\n",
    "global ferOp"
   ]
  },
  {
   "cell_type": "code",
   "execution_count": 6,
   "id": "treated-pulse",
   "metadata": {},
   "outputs": [
    {
     "name": "stdout",
     "output_type": "stream",
     "text": [
      "Interatomic Distance: 0.6 VQE Result: -1.1266575028261117\n",
      "Interatomic Distance: 0.7 VQE Result: -1.2059922391788984\n",
      "Interatomic Distance: 0.8 VQE Result: -1.2375892696618835\n",
      "Interatomic Distance: 0.9 VQE Result: -1.2423891830752372\n",
      "Interatomic Distance: 1.0 VQE Result: -1.2319273721194177\n",
      "Interatomic Distance: 1.1 VQE Result: -1.212919884183459\n"
     ]
    }
   ],
   "source": [
    "backend = Aer.get_backend(\"statevector_simulator\")\n",
    "optimizer = COBYLA(maxiter=500)\n",
    "distances = np.arange(0.6, 1.2, 0.1)\n",
    "vqe_energies = []\n",
    "min = 100.0\n",
    "dismin = 0.0\n",
    "\n",
    "for dist in distances:\n",
    "    charge = 1\n",
    "    spin = 0   \n",
    "    mol = \"H .0 .0 .0; H .0 .0 \" + str(dist) + \"; H .0 .0 \" + str(-dist)\n",
    "    driver = PySCFDriver(atom = mol,\n",
    "                         unit=UnitsType.ANGSTROM, spin = spin,\n",
    "                         charge=charge, basis='sto-6g',hf_method=hfmethod)\n",
    "    \n",
    "    molecule = driver.run()\n",
    "    \n",
    "    shift = molecule.nuclear_repulsion_energy\n",
    "    num_particles = molecule.num_alpha + molecule.num_beta\n",
    "    num_orbitals = molecule.num_orbitals\n",
    "    num_spin_orbitals = num_orbitals*2\n",
    "    ferOp = FermionicOperator(h1=molecule.one_body_integrals, h2=molecule.two_body_integrals)\n",
    "    \n",
    "    qubitOp = ferOp.mapping(map_type=qubit_mapping)\n",
    "    \n",
    "    initial_state = HartreeFock(num_spin_orbitals, \n",
    "                                num_particles, \n",
    "                                qubit_mapping,\n",
    "                                two_qubit_reduction)\n",
    "    \n",
    "    var_form = UCCSD(num_orbitals=num_spin_orbitals,\n",
    "                        num_particles=num_particles,\n",
    "                        initial_state=initial_state,\n",
    "                        qubit_mapping=qubit_mapping,\n",
    "                        two_qubit_reduction=two_qubit_reduction)\n",
    "    \n",
    "    init_parm = np.zeros(var_form.num_parameters)\n",
    "    vqe = VQE(qubitOp, var_form, optimizer, initial_point=init_parm)\n",
    "    vqe_result_tot = vqe.run(backend)\n",
    "    vqe_result = np.real(vqe_result_tot['eigenvalue'] + shift)\n",
    "    vqe_energies.append(vqe_result)\n",
    "    print(\"Interatomic Distance:\", np.round(dist, 2), \n",
    "          \"VQE Result:\", vqe_result)\n",
    "    if vqe_result < min:\n",
    "        min = vqe_result\n",
    "        dismin = dist\n",
    "        best_result = vqe_result_tot"
   ]
  },
  {
   "cell_type": "code",
   "execution_count": 7,
   "id": "downtown-guatemala",
   "metadata": {},
   "outputs": [
    {
     "data": {
      "image/png": "[encoded data removed]",
      "text/plain": [
       "<Figure size 432x288 with 1 Axes>"
      ]
     },
     "metadata": {
      "needs_background": "light"
     },
     "output_type": "display_data"
    }
   ],
   "source": [
    "plt.plot(distances, vqe_energies, label=\"VQE Energy\")\n",
    "plt.xlabel('Atomic distance (Angstrom)')\n",
    "plt.ylabel('Energy')\n",
    "plt.legend()\n",
    "#plt.ylim([-1.5, -1.3])\n",
    "plt.show()"
   ]
  },
  {
   "cell_type": "code",
   "execution_count": null,
   "id": "union-following",
   "metadata": {},
   "outputs": [],
   "source": []
  }
 ],
 "metadata": {
  "kernelspec": {
   "display_name": "Python 3",
   "language": "python",
   "name": "python3"
  },
  "language_info": {
   "codemirror_mode": {
    "name": "ipython",
    "version": 3
   },
   "file_extension": ".py",
   "mimetype": "text/x-python",
   "name": "python",
   "nbconvert_exporter": "python",
   "pygments_lexer": "ipython3",
   "version": "3.8.5"
  }
 },
 "nbformat": 4,
 "nbformat_minor": 5
}
