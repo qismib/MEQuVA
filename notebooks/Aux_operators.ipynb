{
 "cells": [
  {
   "cell_type": "markdown",
   "id": "aerial-saturday",
   "metadata": {},
   "source": [
    "## Aux_operators"
   ]
  },
  {
   "cell_type": "code",
   "execution_count": 3,
   "id": "ac8f864e",
   "metadata": {},
   "outputs": [
    {
     "name": "stderr",
     "output_type": "stream",
     "text": [
      "ibmqfactory.load_account:WARNING:2021-06-13 14:21:58,716: Credentials are already in use. The existing account in the session will be replaced.\n"
     ]
    }
   ],
   "source": [
    "import warnings\n",
    "warnings.filterwarnings(\"ignore\")\n",
    "\n",
    "import matplotlib.pyplot as plt\n",
    "\n",
    "import numpy as np\n",
    "import pprint\n",
    "\n",
    "from qiskit import Aer\n",
    "from qiskit import QuantumRegister, QuantumCircuit\n",
    "from qiskit.aqua import QuantumInstance, aqua_globals\n",
    "from qiskit.aqua.algorithms import NumPyMinimumEigensolver, VQE\n",
    "from qiskit.aqua.components.optimizers import SLSQP, COBYLA, CG\n",
    "from qiskit.chemistry import QiskitChemistryError\n",
    "from qiskit.chemistry.applications import MolecularGroundStateEnergy\n",
    "from qiskit.chemistry.algorithms import ground_state_solvers\n",
    "from qiskit.chemistry.components.initial_states import HartreeFock\n",
    "from qiskit.chemistry.components.variational_forms import UCCSD\n",
    "from qiskit.chemistry.core import QubitMappingType, Hamiltonian, TransformationType\n",
    "from qiskit.chemistry.drivers import PySCFDriver, UnitsType, HFMethodType\n",
    "from qiskit.circuit.library import TwoLocal\n",
    "from qiskit.tools.visualization import circuit_drawer\n",
    "\n",
    "from qiskit.providers.aer.noise import NoiseModel\n",
    "from qiskit.providers.aer.noise.errors import pauli_error, depolarizing_error\n",
    "from qiskit import IBMQ\n",
    "provider = IBMQ.load_account()\n",
    "\n",
    "from qiskit.aqua.components.variational_forms import VariationalForm\n",
    "from qiskit.ignis.mitigation.measurement import CompleteMeasFitter"
   ]
  },
  {
   "cell_type": "code",
   "execution_count": 5,
   "id": "df4daeae",
   "metadata": {},
   "outputs": [],
   "source": [
    "def add_unitary_gate(circuit,qubit1,qubit2,params,p0):\n",
    "    circuit.s(qubit1)\n",
    "    circuit.s(qubit2)\n",
    "    circuit.h(qubit2)\n",
    "    circuit.cx(qubit2,qubit1)\n",
    "    circuit.u3(params[p0],params[p0+1],params[p0+2],qubit1); p0 += 3\n",
    "    circuit.u3(params[p0],params[p0+1],params[p0+2],qubit2); p0 += 3\n",
    "    circuit.cx(qubit2,qubit1)\n",
    "    circuit.h(qubit2)\n",
    "    circuit.sdg(qubit1)\n",
    "    circuit.sdg(qubit2) \n",
    "\n",
    "class SO_04(VariationalForm):\n",
    "    \n",
    "    def __init__(self, numqubits):\n",
    "        self._num_qubits = numqubits\n",
    "        self._num_parameters = 6*(numqubits-1)\n",
    "               \n",
    "    def construct_circuit(self, parameters):\n",
    "        q = QuantumRegister(self._num_qubits, name='q')\n",
    "        circ = QuantumCircuit(q)\n",
    "        \n",
    "        #initial state       \n",
    "        #circ.x(0)\n",
    "        #circ.x(1)\n",
    "        \n",
    "        if self._num_qubits == 4:        \n",
    "            add_unitary_gate(circ, 0, 1, parameters, 0)\n",
    "            add_unitary_gate(circ, 2, 3, parameters, 6)\n",
    "            add_unitary_gate(circ, 1, 2, parameters, 12)\n",
    "            \n",
    "        return circ\n",
    "    \n",
    "    @property\n",
    "    def num_parameters(self):\n",
    "        return self._num_parameters    "
   ]
  },
  {
   "cell_type": "code",
   "execution_count": 12,
   "id": "388d3a44",
   "metadata": {},
   "outputs": [],
   "source": [
    "# ricorda i parametri\n",
    "lastparam = {}\n",
    "lastparam['TwoLocal(ry)'] = np.ones(12)   \n",
    "lastparam['SO(4)'] = np.ones(18)   "
   ]
  },
  {
   "cell_type": "code",
   "execution_count": 19,
   "id": "52520679",
   "metadata": {},
   "outputs": [],
   "source": [
    "def vqe_function(geometry, basis = 'sto-6g', var_form_type = 'TwoLocal(ry)', \n",
    "                 quantum_instance = Aer.get_backend(\"statevector_simulator\"),\n",
    "                 optimizer = CG(maxiter=1000)):\n",
    "    \n",
    "    two_qubit_reduction = True\n",
    "    qubit_mapping = 'parity'\n",
    "    \n",
    "    charge = 1\n",
    "    spin = 0\n",
    "    driver = PySCFDriver(atom = geometry,\n",
    "                         unit=UnitsType.ANGSTROM, spin = spin,\n",
    "                         charge=charge, basis=basis,hf_method=HFMethodType.RHF)\n",
    "    \n",
    "    molecule = driver.run()\n",
    "    \n",
    "    shift = molecule.nuclear_repulsion_energy\n",
    "    num_particles = molecule.num_alpha + molecule.num_beta\n",
    "    num_orbitals = molecule.num_orbitals\n",
    "    num_spin_orbitals = num_orbitals*2\n",
    "    \n",
    "    \n",
    "    core = Hamiltonian(transformation=TransformationType.FULL, qubit_mapping=QubitMappingType.PARITY, \n",
    "                   two_qubit_reduction=two_qubit_reduction, freeze_core=False)\n",
    "\n",
    "    qubitOp, aux_ops = core.run(molecule)\n",
    "    \n",
    "    aux_ops = aux_ops[:3]\n",
    "    aux_ops.append(qubitOp)\n",
    "    \n",
    "    initial_state = HartreeFock(num_spin_orbitals, \n",
    "                                num_particles, \n",
    "                                qubit_mapping,\n",
    "                                two_qubit_reduction)\n",
    "    \n",
    "    var_form = TwoLocal() #dummy\n",
    "    init_parm = lastparam[var_form_type]\n",
    "    \n",
    "    if var_form_type == 'TwoLocal(ry)':\n",
    "        var_form = TwoLocal(rotation_blocks=['ry'], entanglement_blocks='cx',\n",
    "                            num_qubits=4,\n",
    "                            reps=2,\n",
    "                            #initial_state=initial_state,\n",
    "                            entanglement='linear')\n",
    "        \n",
    "    if var_form_type == 'TwoLocal(ry_rz)':\n",
    "        var_form = TwoLocal(rotation_blocks=['ry','rz'], entanglement_blocks='cz',\n",
    "                            num_qubits=4,\n",
    "                            #initial_state=initial_state,\n",
    "                            entanglement='linear')\n",
    "    \n",
    "    if var_form_type == 'UCCSD':\n",
    "        var_form = UCCSD(num_orbitals=num_spin_orbitals,\n",
    "                        num_particles=num_particles,\n",
    "                        initial_state=initial_state,\n",
    "                        qubit_mapping=qubit_mapping,\n",
    "                        two_qubit_reduction=two_qubit_reduction,\n",
    "                        z2_symmetries=None)\n",
    "        \n",
    "    if var_form_type == 'SO(4)':\n",
    "        var_form = SO_04(4)\n",
    "    \n",
    "      \n",
    "    \n",
    "    vqe = VQE(qubitOp, var_form, optimizer, initial_point=init_parm,aux_operators=aux_ops)\n",
    "    vqe_result_tot = vqe.run(quantum_instance)\n",
    "    \n",
    "    return vqe_result_tot"
   ]
  },
  {
   "cell_type": "code",
   "execution_count": 21,
   "id": "c57276e5",
   "metadata": {},
   "outputs": [
    {
     "name": "stdout",
     "output_type": "stream",
     "text": [
      "D =  0.3 \t NUM =  2.000003884238438\n",
      "D =  0.4 \t NUM =  2.000005868120518\n",
      "D =  0.5 \t NUM =  2.0000098831342616\n",
      "D =  0.6000000000000001 \t NUM =  2.0000000003947336\n",
      "D =  0.7000000000000002 \t NUM =  2.0000308975819165\n",
      "D =  0.8000000000000003 \t NUM =  2.000047709290114\n",
      "D =  0.9000000000000001 \t NUM =  2.000070388431731\n",
      "D =  1.0000000000000002 \t NUM =  2.0001048771111476\n",
      "D =  1.1000000000000003 \t NUM =  2.00016710907478\n",
      "D =  1.2000000000000004 \t NUM =  2.000252683104788\n",
      "D =  1.3000000000000005 \t NUM =  2.000441514611321\n",
      "D =  1.4000000000000004 \t NUM =  2.000000022801021\n",
      "D =  1.5000000000000004 \t NUM =  3.99999996642285\n",
      "D =  1.6000000000000005 \t NUM =  3.999999809572163\n",
      "D =  1.7000000000000004 \t NUM =  3.999999887404674\n",
      "D =  1.8000000000000005 \t NUM =  3.9999999920458036\n",
      "D =  1.9000000000000006 \t NUM =  3.9999999981181533\n",
      "D =  2.0000000000000004 \t NUM =  3.999999999422563\n",
      "D =  2.1000000000000005 \t NUM =  3.999999999897866\n",
      "D =  2.2000000000000006 \t NUM =  3.9999999922768437\n",
      "D =  2.3000000000000007 \t NUM =  3.9999999725944915\n",
      "D =  2.4000000000000004 \t NUM =  3.9999999818515026\n",
      "D =  2.5000000000000004 \t NUM =  3.9999999936827715\n",
      "D =  2.6000000000000005 \t NUM =  3.999999999290415\n",
      "D =  2.7000000000000006 \t NUM =  3.999999981085358\n",
      "D =  2.8000000000000007 \t NUM =  3.999999990876006\n",
      "D =  2.900000000000001 \t NUM =  3.999999399180637\n",
      "D =  3.000000000000001 \t NUM =  3.9999998349025714\n",
      "D =  3.1000000000000005 \t NUM =  3.9999999900800884\n",
      "D =  3.2000000000000006 \t NUM =  3.9999998907322794\n",
      "D =  3.3000000000000007 \t NUM =  3.999999991649297\n",
      "D =  3.400000000000001 \t NUM =  3.999999971983503\n"
     ]
    }
   ],
   "source": [
    "dist = np.arange(0.3, 3.5, .1)\n",
    "alt = np.sqrt(dist**2 - (dist/2)**2)\n",
    "\n",
    "num_elettroni = []\n",
    "\n",
    "\n",
    "for i in range(len(dist)):\n",
    "    geometry = \"H .0 .0 .0; H .0 .0 \" + str(dist[i]) + \"; H .0 \" + str(alt[i]) + \" \" + str(dist[i]/2)\n",
    "    \n",
    "    result = vqe_function(geometry)\n",
    "    \n",
    "    num_elettroni.append(result['aux_operator_eigenvalues'][0,0])\n",
    "    \n",
    "    print(\"D = \", dist[i], \"\\t NUM = \", result['aux_operator_eigenvalues'][0,0])  #numero part, spinz, spin2"
   ]
  },
  {
   "cell_type": "code",
   "execution_count": 40,
   "id": "8e250b63",
   "metadata": {},
   "outputs": [
    {
     "data": {
      "image/png": "[encoded data removed]",
      "text/plain": [
       "<Figure size 432x288 with 1 Axes>"
      ]
     },
     "metadata": {
      "needs_background": "light"
     },
     "output_type": "display_data"
    }
   ],
   "source": [
    "yerr = []\n",
    "for i in dist:\n",
    "    yerr.append(0.1)\n",
    "    \n",
    "plt.plot(dist,num_elettroni,\"o:\",label=\"Hardware Efficient Ansazt\")\n",
    "    \n",
    "plt.xlabel(r\"$d$ $[\\AA]$\")\n",
    "plt.ylabel(r\"Numero di particelle\")\n",
    "plt.legend()\n",
    "plt.ylim([1, 5])\n",
    "plt.xlim([0.3, 3])\n",
    "\n",
    "\n",
    "#plt.ylim([-1.3, .0])\n",
    "#plt.xlim([0.5, 1.5])\n",
    "\n",
    "#plt.title('SIMULAZIONI VQE SENZA RUMORE E SENZA INITIAL STATE')\n",
    "plt.savefig('figura.pdf')\n",
    "plt.show()"
   ]
  },
  {
   "cell_type": "code",
   "execution_count": null,
   "id": "18bee76a",
   "metadata": {},
   "outputs": [],
   "source": []
  }
 ],
 "metadata": {
  "kernelspec": {
   "display_name": "Python 3",
   "language": "python",
   "name": "python3"
  },
  "language_info": {
   "codemirror_mode": {
    "name": "ipython",
    "version": 3
   },
   "file_extension": ".py",
   "mimetype": "text/x-python",
   "name": "python",
   "nbconvert_exporter": "python",
   "pygments_lexer": "ipython3",
   "version": "3.8.5"
  }
 },
 "nbformat": 4,
 "nbformat_minor": 5
}
